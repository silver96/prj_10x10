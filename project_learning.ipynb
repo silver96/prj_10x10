{
  "nbformat": 4,
  "nbformat_minor": 0,
  "metadata": {
    "colab": {
      "name": "project_learning.ipynb",
      "provenance": [],
      "authorship_tag": "ABX9TyO5WlncPnBeJ6d1ZzBMYM1D",
      "include_colab_link": true
    },
    "kernelspec": {
      "name": "python3",
      "display_name": "Python 3"
    },
    "language_info": {
      "name": "python"
    },
    "accelerator": "GPU"
  },
  "cells": [
    {
      "cell_type": "markdown",
      "metadata": {
        "id": "view-in-github",
        "colab_type": "text"
      },
      "source": [
        "<a href=\"https://colab.research.google.com/github/silver96/prj_10x10/blob/main/project_learning.ipynb\" target=\"_parent\"><img src=\"https://colab.research.google.com/assets/colab-badge.svg\" alt=\"Open In Colab\"/></a>"
      ]
    },
    {
      "cell_type": "code",
      "metadata": {
        "id": "tRfPVVM0XSEf"
      },
      "source": [
        "import pandas as pd\n",
        "import numpy as np\n",
        "import matplotlib.pyplot as plt\n",
        "from tensorflow.keras.models import Sequential\n",
        "from tensorflow.keras.layers import *\n",
        "from keras.callbacks import EarlyStopping"
      ],
      "execution_count": null,
      "outputs": []
    },
    {
      "cell_type": "code",
      "metadata": {
        "colab": {
          "base_uri": "https://localhost:8080/"
        },
        "id": "JvR1YhqyXofu",
        "outputId": "8e05fb34-c442-43c7-8d8d-c5aa6a1f2c9c"
      },
      "source": [
        "X_train, X_test, Y_train, Y_test = np.load(\n",
        "    '/content/datasets/10x10_data_max_13_size_20320_2.npy',\n",
        "    allow_pickle=True)\n",
        "#max: 한 행의(리스트 글자의) 최대 길이\n",
        "#size: 차원 수\n",
        "print(X_train.shape)\n",
        "print(X_test.shape)\n",
        "print(Y_train.shape)\n",
        "print(Y_test.shape)"
      ],
      "execution_count": null,
      "outputs": [
        {
          "output_type": "stream",
          "text": [
            "(81468, 13)\n",
            "(9052, 13)\n",
            "(81468, 10)\n",
            "(9052, 10)\n"
          ],
          "name": "stdout"
        }
      ]
    },
    {
      "cell_type": "markdown",
      "metadata": {
        "id": "SvEYRZ9dn0WJ"
      },
      "source": [
        "#모델생성"
      ]
    },
    {
      "cell_type": "code",
      "metadata": {
        "colab": {
          "base_uri": "https://localhost:8080/"
        },
        "id": "P-ktn5pAYCm-",
        "outputId": "4a1a476e-9d4d-4063-8e32-8f2ff03dd3e3"
      },
      "source": [
        "model = Sequential()\n",
        "#X_pad로 사이즈 통일시킨 데이터를 embedding layer가 원핫인코딩+벡터라이징 처리해줌\n",
        "#벡터라이징: 각 인덱스별 의미부여를 벡터공간이라는 개념을 도입해 처리\n",
        "model.add(Embedding(20320, 300, input_length=13))\n",
        "#차원수 20320를 차원수 300으로 낮추고 input_length는 max최대값인 13으로 입력\n",
        "model.add(Conv1D(512, kernel_size=5, \n",
        "            padding='same', activation='relu'))#1차원 컨볼루션=> conv1d, 2차원 컨볼루션=>conv2d\n",
        "model.add(MaxPool1D(pool_size=1))\n",
        "#conv다음에는 maxpool함께 감\n",
        "model.add(LSTM(128, activation='tanh',\n",
        "               return_sequences=True))\n",
        "model.add(Dropout(0.2))\n",
        "model.add(LSTM(64, activation='tanh',\n",
        "               return_sequences=True))\n",
        "model.add(Dropout(0.1))\n",
        "# model.add(LSTM(64, activation='tanh'))\n",
        "# model.add(Dropout(0.2))\n",
        "model.add(Flatten())\n",
        "model.add(Dense(128, activation='relu'))\n",
        "model.add(Dense(10, activation='softmax'))#y값개수: 10(카테고리개수)\n",
        "early_stopping = EarlyStopping(monitor='val_accuracy', patience=3)  \n",
        "# 5 에포크 동안 해당 값이 좋아지지 않으면 학습을 중단. 보통 5번에서 7번 정도 줌\n",
        "print(model.summary())"
      ],
      "execution_count": null,
      "outputs": [
        {
          "output_type": "stream",
          "text": [
            "Model: \"sequential\"\n",
            "_________________________________________________________________\n",
            "Layer (type)                 Output Shape              Param #   \n",
            "=================================================================\n",
            "embedding (Embedding)        (None, 13, 300)           6096000   \n",
            "_________________________________________________________________\n",
            "conv1d (Conv1D)              (None, 13, 512)           768512    \n",
            "_________________________________________________________________\n",
            "max_pooling1d (MaxPooling1D) (None, 13, 512)           0         \n",
            "_________________________________________________________________\n",
            "lstm (LSTM)                  (None, 13, 128)           328192    \n",
            "_________________________________________________________________\n",
            "dropout (Dropout)            (None, 13, 128)           0         \n",
            "_________________________________________________________________\n",
            "lstm_1 (LSTM)                (None, 13, 64)            49408     \n",
            "_________________________________________________________________\n",
            "dropout_1 (Dropout)          (None, 13, 64)            0         \n",
            "_________________________________________________________________\n",
            "flatten (Flatten)            (None, 832)               0         \n",
            "_________________________________________________________________\n",
            "dense (Dense)                (None, 128)               106624    \n",
            "_________________________________________________________________\n",
            "dense_1 (Dense)              (None, 10)                1290      \n",
            "=================================================================\n",
            "Total params: 7,350,026\n",
            "Trainable params: 7,350,026\n",
            "Non-trainable params: 0\n",
            "_________________________________________________________________\n",
            "None\n"
          ],
          "name": "stdout"
        }
      ]
    },
    {
      "cell_type": "code",
      "metadata": {
        "colab": {
          "base_uri": "https://localhost:8080/"
        },
        "id": "oQGzVPtYbzpg",
        "outputId": "69a7abf7-d673-406d-a7c4-c0348723d836"
      },
      "source": [
        "#모델 환경설정\n",
        "model.compile(loss='categorical_crossentropy',\n",
        "              optimizer='adam', metrics=['accuracy'])\n",
        "#metrics 정밀도 평가, \n",
        "#모델 학습\n",
        "fit_hist = model.fit(X_train, Y_train, batch_size=100, epochs=50, \n",
        "                     validation_data=(X_test, Y_test),\n",
        "                     callbacks=[early_stopping])"
      ],
      "execution_count": null,
      "outputs": [
        {
          "output_type": "stream",
          "text": [
            "Epoch 1/50\n",
            "815/815 [==============================] - 89s 67ms/step - loss: 0.6209 - accuracy: 0.7980 - val_loss: 0.3462 - val_accuracy: 0.8938\n",
            "Epoch 2/50\n",
            "815/815 [==============================] - 53s 65ms/step - loss: 0.2374 - accuracy: 0.9282 - val_loss: 0.3204 - val_accuracy: 0.9041\n",
            "Epoch 3/50\n",
            "815/815 [==============================] - 53s 65ms/step - loss: 0.1609 - accuracy: 0.9503 - val_loss: 0.3309 - val_accuracy: 0.9031\n",
            "Epoch 4/50\n",
            "815/815 [==============================] - 53s 66ms/step - loss: 0.1248 - accuracy: 0.9606 - val_loss: 0.3505 - val_accuracy: 0.9052\n",
            "Epoch 5/50\n",
            "815/815 [==============================] - 53s 65ms/step - loss: 0.1015 - accuracy: 0.9667 - val_loss: 0.3588 - val_accuracy: 0.9052\n",
            "Epoch 6/50\n",
            "815/815 [==============================] - 54s 66ms/step - loss: 0.0837 - accuracy: 0.9721 - val_loss: 0.4089 - val_accuracy: 0.9030\n",
            "Epoch 7/50\n",
            "815/815 [==============================] - 53s 65ms/step - loss: 0.0704 - accuracy: 0.9765 - val_loss: 0.4134 - val_accuracy: 0.9072\n",
            "Epoch 8/50\n",
            "815/815 [==============================] - 53s 65ms/step - loss: 0.0622 - accuracy: 0.9789 - val_loss: 0.4380 - val_accuracy: 0.9012\n",
            "Epoch 9/50\n",
            "815/815 [==============================] - 53s 65ms/step - loss: 0.0533 - accuracy: 0.9815 - val_loss: 0.4411 - val_accuracy: 0.9063\n",
            "Epoch 10/50\n",
            "815/815 [==============================] - 53s 65ms/step - loss: 0.0490 - accuracy: 0.9831 - val_loss: 0.4410 - val_accuracy: 0.9071\n"
          ],
          "name": "stdout"
        }
      ]
    },
    {
      "cell_type": "code",
      "metadata": {
        "colab": {
          "base_uri": "https://localhost:8080/"
        },
        "id": "Px-4zeNqb7cN",
        "outputId": "d3695e98-1ca9-4692-f54e-1ab1bf8bb39e"
      },
      "source": [
        "score = model.evaluate(X_test, Y_test)\n",
        "print(score[1])"
      ],
      "execution_count": null,
      "outputs": [
        {
          "output_type": "stream",
          "text": [
            "283/283 [==============================] - 2s 8ms/step - loss: 0.5130 - accuracy: 0.9142\n",
            "0.9141626358032227\n"
          ],
          "name": "stdout"
        }
      ]
    },
    {
      "cell_type": "code",
      "metadata": {
        "colab": {
          "base_uri": "https://localhost:8080/",
          "height": 265
        },
        "id": "3lIGgZi7t7yQ",
        "outputId": "d61657f5-96d4-4a67-ae1c-da0f75bc9381"
      },
      "source": [
        "plt.plot(fit_hist.history['loss'], label='loss')\n",
        "plt.plot(fit_hist.history['val_loss'], label='val_loss')\n",
        "plt.legend()\n",
        "plt.show()"
      ],
      "execution_count": null,
      "outputs": [
        {
          "output_type": "display_data",
          "data": {
            "image/png": "[encoded data removed]",
            "text/plain": [
              "<Figure size 432x288 with 1 Axes>"
            ]
          },
          "metadata": {
            "tags": [],
            "needs_background": "light"
          }
        }
      ]
    },
    {
      "cell_type": "code",
      "metadata": {
        "id": "SsAVxC4Jb_wu"
      },
      "source": [
        "model.save('/content/models/10x10_classfication_{}.h5'.format(score[1]))"
      ],
      "execution_count": null,
      "outputs": []
    }
  ]
}