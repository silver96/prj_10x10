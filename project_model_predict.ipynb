{
  "nbformat": 4,
  "nbformat_minor": 0,
  "metadata": {
    "colab": {
      "name": "project_model_predict.ipynb",
      "provenance": [],
      "authorship_tag": "ABX9TyP1DpK/6tOCVW+/A01rUR40"
    },
    "kernelspec": {
      "name": "python3",
      "display_name": "Python 3"
    },
    "language_info": {
      "name": "python"
    }
  },
  "cells": [
    {
      "cell_type": "code",
      "metadata": {
        "colab": {
          "base_uri": "https://localhost:8080/"
        },
        "id": "by4G2SSeliS9",
        "outputId": "af3b45de-d9e0-45d6-b691-71ec56fea96e"
      },
      "source": [
        "!pip install konlpy"
      ],
      "execution_count": null,
      "outputs": [
        {
          "output_type": "stream",
          "text": [
            "Collecting konlpy\n",
            "\u001b[?25l  Downloading https://files.pythonhosted.org/packages/85/0e/f385566fec837c0b83f216b2da65db9997b35dd675e107752005b7d392b1/konlpy-0.5.2-py2.py3-none-any.whl (19.4MB)\n",
            "\u001b[K     |████████████████████████████████| 19.4MB 1.5MB/s \n",
            "\u001b[?25hCollecting JPype1>=0.7.0\n",
            "\u001b[?25l  Downloading https://files.pythonhosted.org/packages/98/88/f817ef1af6f794e8f11313dcd1549de833f4599abcec82746ab5ed086686/JPype1-1.3.0-cp37-cp37m-manylinux_2_5_x86_64.manylinux1_x86_64.whl (448kB)\n",
            "\u001b[K     |████████████████████████████████| 450kB 18.2MB/s \n",
            "\u001b[?25hCollecting beautifulsoup4==4.6.0\n",
            "\u001b[?25l  Downloading https://files.pythonhosted.org/packages/9e/d4/10f46e5cfac773e22707237bfcd51bbffeaf0a576b0a847ec7ab15bd7ace/beautifulsoup4-4.6.0-py3-none-any.whl (86kB)\n",
            "\u001b[K     |████████████████████████████████| 92kB 8.9MB/s \n",
            "\u001b[?25hCollecting colorama\n",
            "  Downloading https://files.pythonhosted.org/packages/44/98/5b86278fbbf250d239ae0ecb724f8572af1c91f4a11edf4d36a206189440/colorama-0.4.4-py2.py3-none-any.whl\n",
            "Requirement already satisfied: lxml>=4.1.0 in /usr/local/lib/python3.7/dist-packages (from konlpy) (4.2.6)\n",
            "Requirement already satisfied: tweepy>=3.7.0 in /usr/local/lib/python3.7/dist-packages (from konlpy) (3.10.0)\n",
            "Requirement already satisfied: numpy>=1.6 in /usr/local/lib/python3.7/dist-packages (from konlpy) (1.19.5)\n",
            "Requirement already satisfied: typing-extensions; python_version < \"3.8\" in /usr/local/lib/python3.7/dist-packages (from JPype1>=0.7.0->konlpy) (3.7.4.3)\n",
            "Requirement already satisfied: requests-oauthlib>=0.7.0 in /usr/local/lib/python3.7/dist-packages (from tweepy>=3.7.0->konlpy) (1.3.0)\n",
            "Requirement already satisfied: requests[socks]>=2.11.1 in /usr/local/lib/python3.7/dist-packages (from tweepy>=3.7.0->konlpy) (2.23.0)\n",
            "Requirement already satisfied: six>=1.10.0 in /usr/local/lib/python3.7/dist-packages (from tweepy>=3.7.0->konlpy) (1.15.0)\n",
            "Requirement already satisfied: oauthlib>=3.0.0 in /usr/local/lib/python3.7/dist-packages (from requests-oauthlib>=0.7.0->tweepy>=3.7.0->konlpy) (3.1.1)\n",
            "Requirement already satisfied: certifi>=2017.4.17 in /usr/local/lib/python3.7/dist-packages (from requests[socks]>=2.11.1->tweepy>=3.7.0->konlpy) (2021.5.30)\n",
            "Requirement already satisfied: idna<3,>=2.5 in /usr/local/lib/python3.7/dist-packages (from requests[socks]>=2.11.1->tweepy>=3.7.0->konlpy) (2.10)\n",
            "Requirement already satisfied: urllib3!=1.25.0,!=1.25.1,<1.26,>=1.21.1 in /usr/local/lib/python3.7/dist-packages (from requests[socks]>=2.11.1->tweepy>=3.7.0->konlpy) (1.24.3)\n",
            "Requirement already satisfied: chardet<4,>=3.0.2 in /usr/local/lib/python3.7/dist-packages (from requests[socks]>=2.11.1->tweepy>=3.7.0->konlpy) (3.0.4)\n",
            "Requirement already satisfied: PySocks!=1.5.7,>=1.5.6; extra == \"socks\" in /usr/local/lib/python3.7/dist-packages (from requests[socks]>=2.11.1->tweepy>=3.7.0->konlpy) (1.7.1)\n",
            "Installing collected packages: JPype1, beautifulsoup4, colorama, konlpy\n",
            "  Found existing installation: beautifulsoup4 4.6.3\n",
            "    Uninstalling beautifulsoup4-4.6.3:\n",
            "      Successfully uninstalled beautifulsoup4-4.6.3\n",
            "Successfully installed JPype1-1.3.0 beautifulsoup4-4.6.0 colorama-0.4.4 konlpy-0.5.2\n"
          ],
          "name": "stdout"
        }
      ]
    },
    {
      "cell_type": "code",
      "metadata": {
        "id": "YYbIQilUk8tV"
      },
      "source": [
        "import pandas as pd\n",
        "import numpy as np\n",
        "from tensorflow.keras.models import *\n",
        "import pickle\n",
        "from konlpy.tag import Okt\n",
        "from sklearn.preprocessing import LabelEncoder\n",
        "from tensorflow.keras.utils import to_categorical\n",
        "from keras.preprocessing.text import Tokenizer\n",
        "from tensorflow.keras.preprocessing.sequence import pad_sequences"
      ],
      "execution_count": null,
      "outputs": []
    },
    {
      "cell_type": "code",
      "metadata": {
        "id": "SlisGIdblcbO"
      },
      "source": [
        "pd.set_option('display.unicode.east_asian.width', True)"
      ],
      "execution_count": null,
      "outputs": []
    },
    {
      "cell_type": "code",
      "metadata": {
        "id": "b8bvUA3Ulq0b"
      },
      "source": [
        "with open('/content/datasets/10x10_token2.pickle', 'rb') as f:\n",
        "  token = pickle.load(f) #피클에 저장해놓은 토큰 가져옴"
      ],
      "execution_count": null,
      "outputs": []
    },
    {
      "cell_type": "code",
      "metadata": {
        "colab": {
          "base_uri": "https://localhost:8080/"
        },
        "id": "7F5cx8zSlq7s",
        "outputId": "d625871d-510e-48e1-b9cf-27f804363079"
      },
      "source": [
        "with open('/content/datasets/10x10_category_encoder.pickle', 'rb') as f:\n",
        "  encoder = pickle.load(f) #피클형태로 저장해놓은 인코더 가져옴\n",
        "category = encoder.classes_\n",
        "print(category)  "
      ],
      "execution_count": null,
      "outputs": [
        {
          "output_type": "stream",
          "text": [
            "['Baby,Kids' 'Beauty' 'Deco' 'FasihonClothing' 'FasionGoods' 'Food'\n",
            " 'Furniture' 'Jewelry' 'Kitchen' 'Life']\n"
          ],
          "name": "stdout"
        }
      ]
    },
    {
      "cell_type": "code",
      "metadata": {
        "colab": {
          "base_uri": "https://localhost:8080/"
        },
        "id": "dTZOax6uNPca",
        "outputId": "20d58cb4-ca20-4178-e482-0767b6687d8b"
      },
      "source": [
        "test_data_ne = pd.read_csv('/content/datasets/test_data_ne.csv', \n",
        "                            index_col=0)\n",
        "print(test_data_ne.head())"
      ],
      "execution_count": null,
      "outputs": [
        {
          "output_type": "stream",
          "text": [
            "                        title   category\n",
            "0      윈썸 우드 롤 업 테이블  Furniture\n",
            "1     모노그램 휘게 체어 블랙  Furniture\n",
            "2     모노그램 휘게 체어 레드  Furniture\n",
            "3   모노그램 휘게 체어 네이비  Furniture\n",
            "4       모노그램    체어 세트  Furniture\n"
          ],
          "name": "stdout"
        }
      ]
    },
    {
      "cell_type": "code",
      "metadata": {
        "colab": {
          "base_uri": "https://localhost:8080/"
        },
        "id": "m1fByvPVNPe-",
        "outputId": "79b5742d-7c52-43c7-ebf8-f23f13a5b181"
      },
      "source": [
        "print(test_data_ne.info())"
      ],
      "execution_count": null,
      "outputs": [
        {
          "output_type": "stream",
          "text": [
            "<class 'pandas.core.frame.DataFrame'>\n",
            "Int64Index: 2132 entries, 0 to 2153\n",
            "Data columns (total 2 columns):\n",
            " #   Column    Non-Null Count  Dtype \n",
            "---  ------    --------------  ----- \n",
            " 0   title     2129 non-null   object\n",
            " 1   category  2132 non-null   object\n",
            "dtypes: object(2)\n",
            "memory usage: 50.0+ KB\n",
            "None\n"
          ],
          "name": "stdout"
        }
      ]
    },
    {
      "cell_type": "code",
      "metadata": {
        "id": "qLCQ2dOOSn0Z"
      },
      "source": [
        "test_data_ne = test_data_ne.dropna(axis=0)\n",
        "\n",
        "test_data_ne.reset_index(drop=True,inplace=True)"
      ],
      "execution_count": null,
      "outputs": []
    },
    {
      "cell_type": "code",
      "metadata": {
        "colab": {
          "base_uri": "https://localhost:8080/"
        },
        "id": "6HYBUGAUSGFE",
        "outputId": "cb374d4d-bf2e-4beb-e680-b0555de82ca0"
      },
      "source": [
        "sum_dup = test_data_ne.title.duplicated().sum()#중복 행 개수 확인\n",
        "sum_dup"
      ],
      "execution_count": null,
      "outputs": [
        {
          "output_type": "execute_result",
          "data": {
            "text/plain": [
              "341"
            ]
          },
          "metadata": {
            "tags": []
          },
          "execution_count": 32
        }
      ]
    },
    {
      "cell_type": "code",
      "metadata": {
        "colab": {
          "base_uri": "https://localhost:8080/"
        },
        "id": "cAfaAxq8NPhm",
        "outputId": "b6039cdf-4191-4fc8-a27e-89f384b0499e"
      },
      "source": [
        "#중복제거\n",
        "test_data_ne = test_data_ne.drop_duplicates(subset=['title'])#title에서 중복값 존재하는 행 제거한 df생성\n",
        "sum_dup = test_data_ne.title.duplicated().sum()#중복 행 개수 확인\n",
        "print(sum_dup)"
      ],
      "execution_count": null,
      "outputs": [
        {
          "output_type": "stream",
          "text": [
            "0\n"
          ],
          "name": "stdout"
        }
      ]
    },
    {
      "cell_type": "code",
      "metadata": {
        "id": "XhNDDTDgTTO8"
      },
      "source": [
        "test_data_ne.reset_index(drop=True,inplace=True)"
      ],
      "execution_count": null,
      "outputs": []
    },
    {
      "cell_type": "code",
      "metadata": {
        "id": "lXMyRxW2NbFx"
      },
      "source": [
        "#X,Y분류\n",
        "X = test_data_ne['title']\n",
        "Y = test_data_ne['category']"
      ],
      "execution_count": null,
      "outputs": []
    },
    {
      "cell_type": "code",
      "metadata": {
        "colab": {
          "base_uri": "https://localhost:8080/"
        },
        "id": "_HXB6hxNSfh9",
        "outputId": "2b7b1e87-a191-4472-a363-fb1f909ec17e"
      },
      "source": [
        "test_data_ne.info()"
      ],
      "execution_count": null,
      "outputs": [
        {
          "output_type": "stream",
          "text": [
            "<class 'pandas.core.frame.DataFrame'>\n",
            "RangeIndex: 1788 entries, 0 to 1787\n",
            "Data columns (total 2 columns):\n",
            " #   Column    Non-Null Count  Dtype \n",
            "---  ------    --------------  ----- \n",
            " 0   title     1788 non-null   object\n",
            " 1   category  1788 non-null   object\n",
            "dtypes: object(2)\n",
            "memory usage: 28.1+ KB\n"
          ],
          "name": "stdout"
        }
      ]
    },
    {
      "cell_type": "code",
      "metadata": {
        "colab": {
          "base_uri": "https://localhost:8080/"
        },
        "id": "H9E7QNTcNbNT",
        "outputId": "071716b8-cba6-4976-9e25-8d612f5d651c"
      },
      "source": [
        "okt = Okt()\n",
        "for i in range(len(X)):#X를 각각 형태로 분리 하여 저장\n",
        "  X[i] = okt.morphs(X[i])\n",
        "print(X) "
      ],
      "execution_count": null,
      "outputs": [
        {
          "output_type": "stream",
          "text": [
            "0                            [윈썸, 우드, 롤, 업, 테이블]\n",
            "1                        [모노, 그램, 휘, 게, 체어, 블랙]\n",
            "2                        [모노, 그램, 휘, 게, 체어, 레드]\n",
            "3                      [모노, 그램, 휘, 게, 체어, 네이비]\n",
            "4                                [모노, 그램, 체어, 세트]\n",
            "                              ...                        \n",
            "1783    [여자, 오로라, 영롱, 아크릴, 컬러, 세트, 호, 마이카, 반지]...\n",
            "1784         [피닉스, 시계, 줄, 시계, 밴드, 아크릴, 밴드]\n",
            "1785           [피닉스, 시계, 줄, 시계, 밴드, 가죽, 밴드]\n",
            "1786       [피닉스, 시계, 줄, 시계, 밴드, 우레, 탄, 밴드]\n",
            "1787    [남자, 시계, 메탈, 시계, 오토, 매틱, 시계, 손목시계]...\n",
            "Name: title, Length: 1788, dtype: object\n"
          ],
          "name": "stdout"
        }
      ]
    },
    {
      "cell_type": "code",
      "metadata": {
        "id": "yBX7qZhjNbQ7"
      },
      "source": [
        "stopwords = pd.read_csv('/content/datasets/stopwords2.csv')"
      ],
      "execution_count": null,
      "outputs": []
    },
    {
      "cell_type": "code",
      "metadata": {
        "colab": {
          "base_uri": "https://localhost:8080/"
        },
        "id": "L02gg-dsNbT9",
        "outputId": "4863a3c4-9b2e-40a9-902b-0049c4246407"
      },
      "source": [
        "for i in range(len(X)): #각각의 X를 처리하기 위한 for문\n",
        "    result = []\n",
        "    for j in range(len(X[i])):#형태소 분리한 X의 단어 개수만큼 for문\n",
        "        if len(X[i][j]) > 1: #i번째 X에서 j번째 각각의 단어길이가 1보다 크고\n",
        "            # print(X[i][j])\n",
        "            if X[i][j] not in list(stopwords['stopword']):\n",
        "            #i번째 X에서 j번째 단어에 불용어가 포함되어 있지 않으면  \n",
        "                result.append(X[i][j])\n",
        "    X[i] = ' '.join(result) #공백기준으로 result하나로 합침\n",
        "print(X)      "
      ],
      "execution_count": null,
      "outputs": [
        {
          "output_type": "stream",
          "text": [
            "0                             윈썸 우드 테이블\n",
            "1                               모노 그램 체어\n",
            "2                          모노 그램 체어 레드\n",
            "3                        모노 그램 체어 네이비\n",
            "4                               모노 그램 체어\n",
            "                         ...                  \n",
            "1783            오로라 영롱 아크릴 마이카 반지\n",
            "1784         피닉스 시계 시계 밴드 아크릴 밴드\n",
            "1785           피닉스 시계 시계 밴드 가죽 밴드\n",
            "1786                피닉스 시계 시계 밴드 밴드\n",
            "1787    시계 메탈 시계 오토 매틱 시계 손목시계\n",
            "Name: title, Length: 1788, dtype: object\n"
          ],
          "name": "stdout"
        }
      ]
    },
    {
      "cell_type": "code",
      "metadata": {
        "colab": {
          "base_uri": "https://localhost:8080/"
        },
        "id": "AnsEZKa4NbWs",
        "outputId": "bc248350-650b-4a8f-c53f-6d5213028fd7"
      },
      "source": [
        "tokened_X = token.texts_to_sequences(X)\n",
        "\n",
        "print(tokened_X[0])"
      ],
      "execution_count": null,
      "outputs": [
        {
          "output_type": "stream",
          "text": [
            "[36, 8]\n"
          ],
          "name": "stdout"
        }
      ]
    },
    {
      "cell_type": "code",
      "metadata": {
        "colab": {
          "base_uri": "https://localhost:8080/"
        },
        "id": "9TYTFa7KNr8_",
        "outputId": "ca3ee351-f878-489b-e292-8ededc56247d"
      },
      "source": [
        "X_pad = pad_sequences(tokened_X, 13)#27은 max값\n",
        "print(X_pad[:10])"
      ],
      "execution_count": null,
      "outputs": [
        {
          "output_type": "stream",
          "text": [
            "[[    0     0     0     0     0     0     0     0     0     0     0    36\n",
            "      8]\n",
            " [    0     0     0     0     0     0     0     0     0     0   929  2621\n",
            "     22]\n",
            " [    0     0     0     0     0     0     0     0     0   929  2621    22\n",
            "    136]\n",
            " [    0     0     0     0     0     0     0     0     0   929  2621    22\n",
            "    378]\n",
            " [    0     0     0     0     0     0     0     0     0     0   929  2621\n",
            "     22]\n",
            " [    0     0     0     0     0     0     0   929  2621   328  1337    25\n",
            "    290]\n",
            " [    0     0     0     0     0     0     0     0     0     0     0   137\n",
            "   3882]\n",
            " [    0     0     0     0     0     0     0     0     0     0     0  5962\n",
            "  10134]\n",
            " [    0     0     0     0     0     0     0     0     0     0     0     0\n",
            "   4048]\n",
            " [    0     0     0     0     0     0     0     0     0     0     0     0\n",
            "      0]]\n"
          ],
          "name": "stdout"
        }
      ]
    },
    {
      "cell_type": "code",
      "metadata": {
        "id": "rbJDJmJMNsAA"
      },
      "source": [
        "model = load_model('/content/10x10_classfication_0.9141626358032227.h5')"
      ],
      "execution_count": null,
      "outputs": []
    },
    {
      "cell_type": "code",
      "metadata": {
        "colab": {
          "base_uri": "https://localhost:8080/"
        },
        "id": "6T19k9FyNsEC",
        "outputId": "6c025481-3217-4789-eab9-e782052218b5"
      },
      "source": [
        "predict = model.predict(X_pad)\n",
        "\n",
        "print(predict[0])"
      ],
      "execution_count": null,
      "outputs": [
        {
          "output_type": "stream",
          "text": [
            "[2.1008077e-07 3.1854913e-07 6.2642684e-05 1.6608346e-09 8.4612668e-07\n",
            " 1.0882920e-06 9.9907792e-01 2.7727583e-06 8.5165899e-04 2.4918118e-06]\n"
          ],
          "name": "stdout"
        }
      ]
    },
    {
      "cell_type": "code",
      "metadata": {
        "colab": {
          "base_uri": "https://localhost:8080/"
        },
        "id": "6kJLvvRUNsGd",
        "outputId": "155700df-e931-4482-e054-963dac62ba1c"
      },
      "source": [
        "result = np.argmax(predict[0])\n",
        "print(result) #가장 큰 결과값\n",
        "print(category[result]) #Politics 가장 많은 개수"
      ],
      "execution_count": null,
      "outputs": [
        {
          "output_type": "stream",
          "text": [
            "6\n",
            "Furniture\n"
          ],
          "name": "stdout"
        }
      ]
    },
    {
      "cell_type": "code",
      "metadata": {
        "colab": {
          "base_uri": "https://localhost:8080/"
        },
        "id": "wvi6C6f-NsI0",
        "outputId": "6e2a60ff-32eb-4eae-ceb3-b07eacb2ee0f"
      },
      "source": [
        "predict_category = []\n",
        "for pred in predict:\n",
        "    #가장 값이 큰 predict의 인덱스 받아오기\n",
        "    predict_category.append(category[np.argmax(pred)])\n",
        "print(predict_category)    "
      ],
      "execution_count": null,
      "outputs": [
        {
          "output_type": "stream",
          "text": [
            "['Furniture', 'Furniture', 'Furniture', 'Furniture', 'Furniture', 'FasionGoods', 'Baby,Kids', 'Deco', 'FasionGoods', 'FasionGoods', 'Furniture', 'Furniture', 'Furniture', 'Furniture', 'Furniture', 'Furniture', 'Furniture', 'Furniture', 'Furniture', 'Furniture', 'Furniture', 'Furniture', 'Furniture', 'Furniture', 'Furniture', 'Furniture', 'Furniture', 'Furniture', 'Furniture', 'Furniture', 'Furniture', 'Furniture', 'Furniture', 'Furniture', 'Furniture', 'Furniture', 'Furniture', 'Furniture', 'Furniture', 'Furniture', 'Furniture', 'Furniture', 'Furniture', 'Furniture', 'Furniture', 'Furniture', 'Furniture', 'Furniture', 'Furniture', 'Furniture', 'Furniture', 'Furniture', 'Furniture', 'Furniture', 'Furniture', 'Furniture', 'Furniture', 'Furniture', 'Furniture', 'Furniture', 'Furniture', 'Furniture', 'Furniture', 'Furniture', 'Furniture', 'Furniture', 'Furniture', 'Furniture', 'Furniture', 'Furniture', 'Furniture', 'Furniture', 'Furniture', 'Food', 'Furniture', 'Furniture', 'Furniture', 'Furniture', 'Furniture', 'Jewelry', 'Jewelry', 'Furniture', 'Furniture', 'Furniture', 'Furniture', 'Deco', 'Furniture', 'Furniture', 'Furniture', 'Furniture', 'Furniture', 'Furniture', 'Life', 'Furniture', 'Furniture', 'Furniture', 'Furniture', 'Furniture', 'Furniture', 'Furniture', 'Furniture', 'Furniture', 'Furniture', 'Furniture', 'Furniture', 'Furniture', 'Furniture', 'Furniture', 'Furniture', 'Furniture', 'Furniture', 'Furniture', 'Furniture', 'Furniture', 'Furniture', 'Furniture', 'Furniture', 'Furniture', 'Furniture', 'Furniture', 'Life', 'Furniture', 'Furniture', 'Furniture', 'Furniture', 'Furniture', 'Furniture', 'Furniture', 'Furniture', 'Furniture', 'Furniture', 'Furniture', 'Furniture', 'Furniture', 'Furniture', 'Furniture', 'Furniture', 'Furniture', 'Furniture', 'Furniture', 'Furniture', 'Life', 'Furniture', 'Furniture', 'Furniture', 'Furniture', 'Deco', 'Deco', 'Furniture', 'Furniture', 'Deco', 'Furniture', 'Furniture', 'Furniture', 'Furniture', 'Furniture', 'Furniture', 'Furniture', 'Furniture', 'Furniture', 'Furniture', 'Furniture', 'Life', 'Furniture', 'Baby,Kids', 'Furniture', 'Furniture', 'Furniture', 'Furniture', 'Furniture', 'Furniture', 'Furniture', 'Baby,Kids', 'Furniture', 'Furniture', 'Furniture', 'Beauty', 'Life', 'Baby,Kids', 'FasionGoods', 'FasihonClothing', 'FasihonClothing', 'Life', 'Food', 'FasionGoods', 'FasionGoods', 'FasionGoods', 'FasionGoods', 'Baby,Kids', 'Baby,Kids', 'Beauty', 'Deco', 'Beauty', 'Beauty', 'Beauty', 'Life', 'Life', 'Life', 'Beauty', 'Life', 'Life', 'Life', 'Life', 'Deco', 'Life', 'Life', 'Baby,Kids', 'Baby,Kids', 'Food', 'Life', 'Life', 'Kitchen', 'Life', 'Kitchen', 'Beauty', 'Life', 'Life', 'Life', 'Life', 'Furniture', 'Beauty', 'Life', 'Life', 'Life', 'Life', 'Life', 'Life', 'Life', 'Life', 'Life', 'Life', 'Life', 'Life', 'Life', 'Life', 'Life', 'Baby,Kids', 'Baby,Kids', 'Beauty', 'Life', 'Beauty', 'Life', 'Life', 'Life', 'Life', 'Furniture', 'Deco', 'Life', 'Life', 'Life', 'Baby,Kids', 'Life', 'Baby,Kids', 'Baby,Kids', 'Life', 'Life', 'Life', 'Deco', 'Life', 'Kitchen', 'Life', 'Life', 'Life', 'Life', 'Life', 'Life', 'Life', 'Life', 'Baby,Kids', 'Life', 'Life', 'Life', 'Life', 'Life', 'Life', 'Life', 'Life', 'Life', 'Life', 'Life', 'Life', 'Life', 'Furniture', 'Baby,Kids', 'Deco', 'Furniture', 'Deco', 'Kitchen', 'FasionGoods', 'FasionGoods', 'Kitchen', 'Life', 'Life', 'Life', 'Life', 'Life', 'Life', 'Deco', 'Furniture', 'Life', 'FasihonClothing', 'Beauty', 'Life', 'Life', 'Life', 'Life', 'Life', 'Life', 'Life', 'Life', 'Life', 'Life', 'Life', 'Beauty', 'Life', 'Life', 'Life', 'Life', 'Life', 'Life', 'Life', 'Life', 'Furniture', 'Life', 'Furniture', 'Life', 'Life', 'Life', 'Life', 'Life', 'Life', 'Life', 'Life', 'Life', 'Life', 'Life', 'Life', 'Life', 'Life', 'Life', 'Life', 'Life', 'Life', 'Life', 'Life', 'Life', 'Life', 'Life', 'Life', 'Life', 'Life', 'Life', 'Kitchen', 'Life', 'Kitchen', 'Life', 'Kitchen', 'Kitchen', 'Life', 'Life', 'Beauty', 'Life', 'Life', 'Life', 'Life', 'Life', 'Deco', 'Deco', 'Deco', 'Baby,Kids', 'Deco', 'Deco', 'Deco', 'Deco', 'Deco', 'Deco', 'Deco', 'Deco', 'Deco', 'Deco', 'Deco', 'Deco', 'Deco', 'Food', 'FasihonClothing', 'Deco', 'Deco', 'Deco', 'Deco', 'Deco', 'FasionGoods', 'Baby,Kids', 'Baby,Kids', 'Kitchen', 'Deco', 'Deco', 'Deco', 'Deco', 'Deco', 'Deco', 'Baby,Kids', 'Furniture', 'Baby,Kids', 'Deco', 'Deco', 'Deco', 'Deco', 'Deco', 'Deco', 'Deco', 'Deco', 'Deco', 'Deco', 'Deco', 'Deco', 'Deco', 'Deco', 'Deco', 'Deco', 'Deco', 'Deco', 'Deco', 'Deco', 'Deco', 'Deco', 'Deco', 'Deco', 'Deco', 'Deco', 'Deco', 'Deco', 'Deco', 'Deco', 'Deco', 'Deco', 'Deco', 'Deco', 'Deco', 'Deco', 'Deco', 'Deco', 'Baby,Kids', 'Deco', 'Deco', 'Deco', 'Deco', 'Deco', 'Food', 'Deco', 'Deco', 'Deco', 'Deco', 'Deco', 'Deco', 'Deco', 'Deco', 'Deco', 'Deco', 'Deco', 'Deco', 'Deco', 'Deco', 'Deco', 'Deco', 'Deco', 'Deco', 'Deco', 'Deco', 'Deco', 'Deco', 'Deco', 'Deco', 'Deco', 'Deco', 'Deco', 'Deco', 'Deco', 'Jewelry', 'Deco', 'Deco', 'Deco', 'Deco', 'Deco', 'Deco', 'Deco', 'Deco', 'Deco', 'Deco', 'Jewelry', 'Jewelry', 'Deco', 'Deco', 'Deco', 'Deco', 'Deco', 'Deco', 'Kitchen', 'Kitchen', 'Life', 'Kitchen', 'Kitchen', 'Kitchen', 'Kitchen', 'Kitchen', 'Kitchen', 'Kitchen', 'Kitchen', 'Kitchen', 'Kitchen', 'Kitchen', 'Kitchen', 'Kitchen', 'Kitchen', 'Kitchen', 'Kitchen', 'Kitchen', 'Kitchen', 'Kitchen', 'Kitchen', 'Kitchen', 'Kitchen', 'Kitchen', 'Kitchen', 'Kitchen', 'Kitchen', 'Kitchen', 'Kitchen', 'Kitchen', 'Kitchen', 'Kitchen', 'Kitchen', 'FasionGoods', 'Kitchen', 'Kitchen', 'Kitchen', 'Kitchen', 'Kitchen', 'Kitchen', 'Kitchen', 'Kitchen', 'Kitchen', 'Kitchen', 'Kitchen', 'Kitchen', 'Kitchen', 'Kitchen', 'Kitchen', 'Kitchen', 'Beauty', 'Kitchen', 'Kitchen', 'Kitchen', 'Kitchen', 'Kitchen', 'Kitchen', 'Kitchen', 'Kitchen', 'Beauty', 'Kitchen', 'Kitchen', 'Kitchen', 'Kitchen', 'Kitchen', 'Kitchen', 'Kitchen', 'Kitchen', 'Kitchen', 'Life', 'Kitchen', 'Beauty', 'Kitchen', 'Kitchen', 'Baby,Kids', 'Baby,Kids', 'Kitchen', 'Kitchen', 'Kitchen', 'Kitchen', 'Kitchen', 'Food', 'Food', 'Kitchen', 'Kitchen', 'Kitchen', 'Kitchen', 'Kitchen', 'Kitchen', 'Kitchen', 'Kitchen', 'Kitchen', 'Kitchen', 'Kitchen', 'Kitchen', 'Kitchen', 'Kitchen', 'Kitchen', 'Kitchen', 'Kitchen', 'Kitchen', 'Kitchen', 'Kitchen', 'Kitchen', 'Kitchen', 'Kitchen', 'Kitchen', 'Jewelry', 'Kitchen', 'Furniture', 'Kitchen', 'Kitchen', 'Kitchen', 'Kitchen', 'Kitchen', 'Kitchen', 'Kitchen', 'Kitchen', 'Kitchen', 'Kitchen', 'Kitchen', 'Kitchen', 'Kitchen', 'Kitchen', 'Kitchen', 'Kitchen', 'Baby,Kids', 'Kitchen', 'Kitchen', 'Kitchen', 'Kitchen', 'Kitchen', 'Deco', 'Kitchen', 'Kitchen', 'Kitchen', 'Kitchen', 'Kitchen', 'Food', 'Kitchen', 'Kitchen', 'Kitchen', 'Kitchen', 'Kitchen', 'Kitchen', 'Kitchen', 'Kitchen', 'Kitchen', 'Kitchen', 'Kitchen', 'Kitchen', 'Kitchen', 'Kitchen', 'Kitchen', 'Kitchen', 'Kitchen', 'Food', 'Baby,Kids', 'Food', 'Beauty', 'Food', 'Food', 'Food', 'Food', 'Life', 'Food', 'Food', 'Food', 'Food', 'Food', 'Food', 'Kitchen', 'Kitchen', 'Kitchen', 'Kitchen', 'Kitchen', 'Kitchen', 'Kitchen', 'Kitchen', 'Kitchen', 'Kitchen', 'Food', 'Food', 'Food', 'FasionGoods', 'Food', 'Food', 'Food', 'Food', 'Food', 'Food', 'Food', 'Food', 'Kitchen', 'FasionGoods', 'FasionGoods', 'Food', 'Food', 'Food', 'Food', 'Food', 'Deco', 'Food', 'Baby,Kids', 'Baby,Kids', 'Baby,Kids', 'Food', 'Deco', 'Food', 'Food', 'Food', 'Food', 'Food', 'Food', 'Baby,Kids', 'Food', 'Food', 'Food', 'Food', 'Baby,Kids', 'Food', 'Food', 'Food', 'Food', 'Food', 'Baby,Kids', 'Food', 'Food', 'Food', 'Food', 'Food', 'Food', 'Deco', 'Food', 'FasionGoods', 'Food', 'Food', 'Food', 'Food', 'Food', 'Food', 'Food', 'Food', 'Food', 'Food', 'Food', 'Food', 'Food', 'Food', 'Food', 'Food', 'Food', 'Food', 'Baby,Kids', 'Food', 'Food', 'Food', 'Food', 'Food', 'Food', 'Food', 'Food', 'Food', 'Food', 'Food', 'Food', 'Food', 'Food', 'Food', 'Food', 'Food', 'Food', 'Food', 'Food', 'Food', 'Food', 'Food', 'Food', 'Food', 'Food', 'Food', 'Food', 'Food', 'Food', 'Food', 'Food', 'Food', 'Food', 'Deco', 'Deco', 'Deco', 'Deco', 'Food', 'Food', 'Food', 'Food', 'Kitchen', 'Kitchen', 'Kitchen', 'Kitchen', 'Kitchen', 'Food', 'Food', 'Food', 'Food', 'Food', 'Food', 'Food', 'Food', 'Food', 'Kitchen', 'Kitchen', 'Kitchen', 'Kitchen', 'Kitchen', 'Kitchen', 'Kitchen', 'Kitchen', 'Kitchen', 'Kitchen', 'Kitchen', 'Life', 'Baby,Kids', 'FasionGoods', 'Baby,Kids', 'Kitchen', 'Kitchen', 'Kitchen', 'Life', 'Life', 'Kitchen', 'Kitchen', 'Kitchen', 'Kitchen', 'Baby,Kids', 'Kitchen', 'Kitchen', 'Kitchen', 'Kitchen', 'Baby,Kids', 'Baby,Kids', 'Life', 'Baby,Kids', 'FasihonClothing', 'Baby,Kids', 'Baby,Kids', 'Baby,Kids', 'Deco', 'Baby,Kids', 'Food', 'Beauty', 'Baby,Kids', 'Baby,Kids', 'Baby,Kids', 'Baby,Kids', 'Baby,Kids', 'Baby,Kids', 'Baby,Kids', 'Baby,Kids', 'Baby,Kids', 'Baby,Kids', 'Furniture', 'Baby,Kids', 'Baby,Kids', 'Baby,Kids', 'Baby,Kids', 'Baby,Kids', 'Baby,Kids', 'FasionGoods', 'FasionGoods', 'Baby,Kids', 'Life', 'Life', 'Life', 'Baby,Kids', 'Deco', 'Deco', 'Baby,Kids', 'Baby,Kids', 'Deco', 'Baby,Kids', 'Deco', 'Baby,Kids', 'Baby,Kids', 'Baby,Kids', 'Baby,Kids', 'Life', 'Furniture', 'Deco', 'Baby,Kids', 'Baby,Kids', 'Baby,Kids', 'Baby,Kids', 'Furniture', 'Baby,Kids', 'Baby,Kids', 'Baby,Kids', 'Baby,Kids', 'Furniture', 'Baby,Kids', 'Jewelry', 'Baby,Kids', 'Baby,Kids', 'Baby,Kids', 'Baby,Kids', 'Furniture', 'Deco', 'Furniture', 'Deco', 'Furniture', 'Baby,Kids', 'Baby,Kids', 'Food', 'Baby,Kids', 'Jewelry', 'Jewelry', 'Jewelry', 'Jewelry', 'Jewelry', 'Baby,Kids', 'Baby,Kids', 'Baby,Kids', 'Baby,Kids', 'Baby,Kids', 'Deco', 'Baby,Kids', 'Baby,Kids', 'Baby,Kids', 'Baby,Kids', 'Baby,Kids', 'Deco', 'Baby,Kids', 'Baby,Kids', 'Baby,Kids', 'Baby,Kids', 'Baby,Kids', 'Baby,Kids', 'Baby,Kids', 'Baby,Kids', 'Baby,Kids', 'Kitchen', 'Food', 'FasionGoods', 'Baby,Kids', 'Baby,Kids', 'Kitchen', 'FasionGoods', 'FasionGoods', 'Baby,Kids', 'Baby,Kids', 'Baby,Kids', 'Baby,Kids', 'Life', 'Life', 'Baby,Kids', 'Baby,Kids', 'Baby,Kids', 'Baby,Kids', 'Baby,Kids', 'Baby,Kids', 'Baby,Kids', 'Deco', 'FasionGoods', 'Baby,Kids', 'Life', 'Baby,Kids', 'Baby,Kids', 'Baby,Kids', 'Deco', 'Baby,Kids', 'Furniture', 'Baby,Kids', 'Baby,Kids', 'Beauty', 'Beauty', 'Beauty', 'Beauty', 'Beauty', 'Baby,Kids', 'Baby,Kids', 'FasihonClothing', 'Baby,Kids', 'FasihonClothing', 'Baby,Kids', 'Baby,Kids', 'Baby,Kids', 'Furniture', 'Furniture', 'Baby,Kids', 'Baby,Kids', 'Baby,Kids', 'Furniture', 'Baby,Kids', 'Deco', 'Baby,Kids', 'Baby,Kids', 'Baby,Kids', 'Baby,Kids', 'Baby,Kids', 'Baby,Kids', 'Baby,Kids', 'Baby,Kids', 'Baby,Kids', 'FasionGoods', 'FasionGoods', 'FasionGoods', 'FasionGoods', 'FasionGoods', 'Deco', 'Furniture', 'FasionGoods', 'FasionGoods', 'FasionGoods', 'FasionGoods', 'FasihonClothing', 'FasionGoods', 'FasihonClothing', 'FasihonClothing', 'FasihonClothing', 'FasionGoods', 'FasihonClothing', 'FasihonClothing', 'FasihonClothing', 'FasihonClothing', 'FasihonClothing', 'FasihonClothing', 'FasionGoods', 'FasihonClothing', 'FasihonClothing', 'FasihonClothing', 'FasihonClothing', 'FasihonClothing', 'FasihonClothing', 'FasihonClothing', 'FasihonClothing', 'FasihonClothing', 'FasihonClothing', 'FasihonClothing', 'FasihonClothing', 'FasihonClothing', 'FasihonClothing', 'FasihonClothing', 'FasihonClothing', 'FasihonClothing', 'FasihonClothing', 'FasihonClothing', 'FasihonClothing', 'FasihonClothing', 'FasihonClothing', 'FasihonClothing', 'FasihonClothing', 'FasihonClothing', 'FasihonClothing', 'FasihonClothing', 'FasihonClothing', 'FasihonClothing', 'FasihonClothing', 'FasihonClothing', 'FasihonClothing', 'FasihonClothing', 'FasihonClothing', 'FasihonClothing', 'FasihonClothing', 'FasihonClothing', 'FasihonClothing', 'FasihonClothing', 'FasihonClothing', 'FasihonClothing', 'FasihonClothing', 'FasihonClothing', 'FasihonClothing', 'FasihonClothing', 'FasihonClothing', 'FasihonClothing', 'FasihonClothing', 'FasihonClothing', 'FasihonClothing', 'FasihonClothing', 'FasihonClothing', 'FasihonClothing', 'FasihonClothing', 'FasihonClothing', 'FasihonClothing', 'FasihonClothing', 'FasihonClothing', 'Baby,Kids', 'FasihonClothing', 'FasihonClothing', 'FasihonClothing', 'FasihonClothing', 'Life', 'FasihonClothing', 'FasihonClothing', 'FasihonClothing', 'FasihonClothing', 'Jewelry', 'FasihonClothing', 'FasihonClothing', 'FasionGoods', 'FasihonClothing', 'FasihonClothing', 'FasionGoods', 'FasihonClothing', 'FasihonClothing', 'FasionGoods', 'FasihonClothing', 'FasihonClothing', 'FasihonClothing', 'Baby,Kids', 'FasihonClothing', 'FasihonClothing', 'FasihonClothing', 'FasihonClothing', 'Deco', 'FasihonClothing', 'FasihonClothing', 'FasihonClothing', 'FasihonClothing', 'FasihonClothing', 'FasihonClothing', 'FasihonClothing', 'FasihonClothing', 'FasihonClothing', 'FasihonClothing', 'FasihonClothing', 'FasihonClothing', 'FasihonClothing', 'FasihonClothing', 'FasihonClothing', 'FasihonClothing', 'FasihonClothing', 'FasihonClothing', 'FasihonClothing', 'FasihonClothing', 'FasihonClothing', 'FasihonClothing', 'FasihonClothing', 'FasihonClothing', 'FasionGoods', 'Baby,Kids', 'Kitchen', 'Kitchen', 'Baby,Kids', 'Beauty', 'FasihonClothing', 'FasihonClothing', 'Baby,Kids', 'Baby,Kids', 'FasihonClothing', 'FasihonClothing', 'Baby,Kids', 'FasihonClothing', 'Baby,Kids', 'FasihonClothing', 'FasihonClothing', 'FasihonClothing', 'FasihonClothing', 'Baby,Kids', 'FasihonClothing', 'FasihonClothing', 'Baby,Kids', 'FasihonClothing', 'FasihonClothing', 'FasihonClothing', 'FasihonClothing', 'FasihonClothing', 'FasihonClothing', 'FasihonClothing', 'FasionGoods', 'FasihonClothing', 'FasihonClothing', 'FasihonClothing', 'FasihonClothing', 'FasihonClothing', 'FasihonClothing', 'FasihonClothing', 'FasihonClothing', 'FasihonClothing', 'FasihonClothing', 'FasihonClothing', 'FasihonClothing', 'Life', 'Life', 'Life', 'Life', 'FasihonClothing', 'Baby,Kids', 'FasihonClothing', 'Baby,Kids', 'Baby,Kids', 'FasihonClothing', 'Baby,Kids', 'FasihonClothing', 'FasihonClothing', 'FasihonClothing', 'Baby,Kids', 'Baby,Kids', 'Life', 'FasionGoods', 'Baby,Kids', 'FasionGoods', 'Baby,Kids', 'FasionGoods', 'Kitchen', 'FasionGoods', 'FasionGoods', 'Baby,Kids', 'FasionGoods', 'FasionGoods', 'FasionGoods', 'FasionGoods', 'FasionGoods', 'FasionGoods', 'FasionGoods', 'FasionGoods', 'FasionGoods', 'FasionGoods', 'FasionGoods', 'FasionGoods', 'Baby,Kids', 'FasionGoods', 'FasihonClothing', 'FasionGoods', 'FasionGoods', 'FasionGoods', 'FasionGoods', 'FasionGoods', 'FasionGoods', 'FasionGoods', 'FasionGoods', 'FasionGoods', 'FasionGoods', 'FasionGoods', 'FasionGoods', 'FasionGoods', 'FasionGoods', 'FasionGoods', 'FasionGoods', 'FasionGoods', 'FasionGoods', 'FasionGoods', 'FasionGoods', 'FasionGoods', 'FasionGoods', 'FasionGoods', 'FasionGoods', 'FasionGoods', 'FasionGoods', 'FasionGoods', 'FasionGoods', 'FasionGoods', 'FasionGoods', 'FasionGoods', 'FasionGoods', 'FasionGoods', 'FasionGoods', 'FasionGoods', 'FasionGoods', 'FasionGoods', 'FasionGoods', 'FasionGoods', 'FasionGoods', 'FasionGoods', 'FasionGoods', 'FasionGoods', 'FasionGoods', 'FasionGoods', 'FasionGoods', 'FasionGoods', 'FasionGoods', 'FasionGoods', 'FasionGoods', 'FasionGoods', 'FasionGoods', 'FasionGoods', 'FasionGoods', 'FasionGoods', 'FasionGoods', 'FasionGoods', 'FasionGoods', 'FasionGoods', 'FasionGoods', 'FasionGoods', 'FasionGoods', 'FasionGoods', 'FasionGoods', 'FasionGoods', 'FasionGoods', 'FasionGoods', 'FasionGoods', 'FasionGoods', 'FasionGoods', 'FasionGoods', 'FasionGoods', 'FasionGoods', 'FasionGoods', 'FasionGoods', 'FasionGoods', 'FasionGoods', 'FasionGoods', 'FasionGoods', 'FasionGoods', 'FasionGoods', 'FasionGoods', 'FasionGoods', 'FasionGoods', 'FasionGoods', 'FasionGoods', 'FasionGoods', 'FasionGoods', 'FasionGoods', 'FasionGoods', 'FasionGoods', 'FasionGoods', 'FasionGoods', 'FasionGoods', 'FasionGoods', 'FasionGoods', 'FasionGoods', 'FasionGoods', 'FasionGoods', 'FasionGoods', 'FasionGoods', 'FasionGoods', 'FasionGoods', 'FasionGoods', 'FasionGoods', 'FasionGoods', 'FasionGoods', 'FasionGoods', 'FasionGoods', 'FasionGoods', 'FasionGoods', 'FasionGoods', 'FasionGoods', 'FasionGoods', 'FasionGoods', 'FasionGoods', 'FasionGoods', 'FasionGoods', 'FasionGoods', 'FasionGoods', 'FasionGoods', 'FasionGoods', 'FasionGoods', 'FasionGoods', 'FasionGoods', 'Baby,Kids', 'FasionGoods', 'FasionGoods', 'FasionGoods', 'FasionGoods', 'Deco', 'FasionGoods', 'FasionGoods', 'FasionGoods', 'FasionGoods', 'FasionGoods', 'FasionGoods', 'FasionGoods', 'FasionGoods', 'FasionGoods', 'FasionGoods', 'FasionGoods', 'Life', 'FasionGoods', 'FasionGoods', 'FasionGoods', 'FasionGoods', 'FasionGoods', 'FasionGoods', 'FasionGoods', 'Life', 'FasionGoods', 'FasionGoods', 'Baby,Kids', 'FasionGoods', 'FasionGoods', 'FasionGoods', 'FasionGoods', 'FasionGoods', 'FasionGoods', 'FasionGoods', 'FasionGoods', 'FasionGoods', 'FasionGoods', 'FasionGoods', 'FasionGoods', 'FasionGoods', 'FasionGoods', 'Beauty', 'Beauty', 'Beauty', 'Baby,Kids', 'Food', 'Beauty', 'Beauty', 'Beauty', 'Beauty', 'Beauty', 'Beauty', 'Beauty', 'Beauty', 'Deco', 'Baby,Kids', 'Life', 'Life', 'Life', 'Beauty', 'Baby,Kids', 'Beauty', 'Beauty', 'Beauty', 'Beauty', 'Beauty', 'Beauty', 'Beauty', 'Beauty', 'Beauty', 'Beauty', 'Beauty', 'Beauty', 'Beauty', 'Kitchen', 'Beauty', 'Beauty', 'Beauty', 'Beauty', 'Beauty', 'Beauty', 'Beauty', 'Food', 'Beauty', 'Beauty', 'Beauty', 'Food', 'Beauty', 'Baby,Kids', 'Food', 'Beauty', 'Beauty', 'Beauty', 'Beauty', 'Deco', 'Baby,Kids', 'Beauty', 'Beauty', 'Beauty', 'Beauty', 'Beauty', 'Beauty', 'Beauty', 'Beauty', 'Beauty', 'Beauty', 'Beauty', 'Beauty', 'Beauty', 'Beauty', 'Beauty', 'Beauty', 'Beauty', 'Beauty', 'Beauty', 'Beauty', 'Beauty', 'Life', 'Beauty', 'Beauty', 'Beauty', 'Beauty', 'Beauty', 'Beauty', 'Beauty', 'Beauty', 'Beauty', 'Beauty', 'Beauty', 'Beauty', 'Beauty', 'Beauty', 'Beauty', 'Beauty', 'Beauty', 'Beauty', 'Beauty', 'Beauty', 'Beauty', 'Beauty', 'Beauty', 'Beauty', 'Beauty', 'Beauty', 'Beauty', 'Beauty', 'Beauty', 'Beauty', 'Beauty', 'Beauty', 'Beauty', 'Beauty', 'Beauty', 'Beauty', 'Beauty', 'Beauty', 'Kitchen', 'Beauty', 'Beauty', 'Beauty', 'Beauty', 'Beauty', 'Beauty', 'Beauty', 'Beauty', 'Beauty', 'Beauty', 'Beauty', 'Beauty', 'Beauty', 'Beauty', 'Beauty', 'Food', 'Beauty', 'Beauty', 'Beauty', 'Beauty', 'Beauty', 'Beauty', 'Baby,Kids', 'Beauty', 'Beauty', 'Beauty', 'Beauty', 'Beauty', 'Beauty', 'Beauty', 'Beauty', 'Beauty', 'Beauty', 'Beauty', 'Beauty', 'Beauty', 'Beauty', 'Beauty', 'Beauty', 'Beauty', 'Beauty', 'Beauty', 'Beauty', 'Beauty', 'Beauty', 'Beauty', 'Beauty', 'Beauty', 'Beauty', 'Beauty', 'Beauty', 'Beauty', 'Beauty', 'Beauty', 'Beauty', 'Beauty', 'Beauty', 'Beauty', 'Beauty', 'Beauty', 'Beauty', 'Beauty', 'Beauty', 'Beauty', 'Food', 'Beauty', 'Beauty', 'Beauty', 'Beauty', 'Beauty', 'Beauty', 'Deco', 'Food', 'Beauty', 'Beauty', 'Beauty', 'Beauty', 'Beauty', 'Food', 'Beauty', 'Beauty', 'Beauty', 'Beauty', 'Life', 'Furniture', 'Furniture', 'Furniture', 'Furniture', 'Kitchen', 'Furniture', 'Furniture', 'Kitchen', 'Deco', 'Life', 'Furniture', 'Furniture', 'Life', 'Kitchen', 'Kitchen', 'Life', 'Food', 'Jewelry', 'Jewelry', 'Jewelry', 'Jewelry', 'Jewelry', 'Jewelry', 'Jewelry', 'Jewelry', 'Jewelry', 'Jewelry', 'Jewelry', 'Jewelry', 'Jewelry', 'Jewelry', 'Jewelry', 'Jewelry', 'Jewelry', 'Jewelry', 'Jewelry', 'Jewelry', 'Jewelry', 'FasionGoods', 'Jewelry', 'Jewelry', 'Jewelry', 'Jewelry', 'Jewelry', 'Jewelry', 'Jewelry', 'Jewelry', 'Jewelry', 'Jewelry', 'Jewelry', 'Jewelry', 'Jewelry', 'Jewelry', 'Jewelry', 'Jewelry', 'Jewelry', 'Jewelry', 'Jewelry', 'Jewelry', 'Deco', 'Jewelry', 'Jewelry', 'Jewelry', 'Jewelry', 'Jewelry', 'Jewelry', 'Jewelry', 'Jewelry', 'Jewelry', 'Jewelry', 'Life', 'Jewelry', 'Jewelry', 'FasihonClothing', 'Baby,Kids', 'Jewelry', 'Jewelry', 'Jewelry', 'Food', 'Jewelry', 'FasionGoods', 'Jewelry', 'Jewelry', 'Jewelry', 'Jewelry', 'Jewelry', 'Jewelry', 'Jewelry', 'Jewelry', 'Jewelry', 'Jewelry', 'Jewelry', 'Jewelry', 'Jewelry', 'Jewelry', 'Jewelry', 'Jewelry', 'Jewelry', 'Jewelry', 'Jewelry', 'Jewelry', 'Jewelry', 'FasionGoods', 'Beauty', 'Jewelry', 'Jewelry', 'Jewelry', 'Jewelry', 'Jewelry', 'Jewelry', 'Jewelry', 'Jewelry', 'Jewelry', 'Jewelry', 'Jewelry', 'Jewelry', 'Jewelry', 'Jewelry', 'FasihonClothing', 'Jewelry', 'Jewelry', 'Jewelry', 'Jewelry', 'Jewelry', 'Jewelry', 'Jewelry', 'Beauty', 'Jewelry', 'Jewelry', 'Jewelry', 'Jewelry', 'Jewelry', 'Jewelry', 'Jewelry', 'Jewelry', 'Jewelry', 'Jewelry', 'Jewelry', 'Jewelry', 'Jewelry', 'Jewelry', 'Jewelry', 'Jewelry', 'Jewelry', 'Jewelry', 'Jewelry', 'Jewelry', 'Jewelry', 'Jewelry', 'Jewelry', 'Life', 'Jewelry', 'Life', 'Jewelry', 'Jewelry', 'Jewelry', 'Jewelry', 'Jewelry', 'Jewelry', 'Jewelry', 'Jewelry', 'Jewelry', 'Jewelry', 'Jewelry', 'Jewelry', 'Jewelry', 'Jewelry', 'Jewelry', 'Jewelry', 'Jewelry', 'Jewelry', 'Jewelry', 'Jewelry', 'Jewelry', 'Jewelry', 'Jewelry', 'Jewelry', 'Jewelry', 'Jewelry', 'Jewelry', 'Jewelry', 'Jewelry', 'Jewelry', 'Jewelry', 'Jewelry', 'Jewelry', 'Jewelry', 'Jewelry', 'Jewelry', 'Jewelry', 'Jewelry', 'Jewelry', 'FasionGoods', 'Jewelry', 'Jewelry', 'Jewelry', 'Jewelry', 'Jewelry', 'Jewelry', 'Jewelry']\n"
          ],
          "name": "stdout"
        }
      ]
    },
    {
      "cell_type": "code",
      "metadata": {
        "colab": {
          "base_uri": "https://localhost:8080/"
        },
        "id": "zxgv6bleNsLy",
        "outputId": "0f0a775a-e21c-45fa-94c7-bb8cc63f8b81"
      },
      "source": [
        "print(Y)"
      ],
      "execution_count": null,
      "outputs": [
        {
          "output_type": "stream",
          "text": [
            "0       Furniture\n",
            "1       Furniture\n",
            "2       Furniture\n",
            "3       Furniture\n",
            "4       Furniture\n",
            "          ...    \n",
            "1783      Jewelry\n",
            "1784      Jewelry\n",
            "1785      Jewelry\n",
            "1786      Jewelry\n",
            "1787      Jewelry\n",
            "Name: category, Length: 1788, dtype: object\n"
          ],
          "name": "stdout"
        }
      ]
    },
    {
      "cell_type": "code",
      "metadata": {
        "colab": {
          "base_uri": "https://localhost:8080/"
        },
        "id": "WkhkB1IGN14D",
        "outputId": "17675d3a-eb92-4ff7-9850-b6fede8794df"
      },
      "source": [
        "test_data_ne['predict'] = predict_category#predict이란 카테고리 추가\n",
        "print(test_data_ne.head())"
      ],
      "execution_count": null,
      "outputs": [
        {
          "output_type": "stream",
          "text": [
            "                   title   category    predict\n",
            "0       윈썸 우드 테이블  Furniture  Furniture\n",
            "1         모노 그램 체어  Furniture  Furniture\n",
            "2    모노 그램 체어 레드  Furniture  Furniture\n",
            "3  모노 그램 체어 네이비  Furniture  Furniture\n",
            "4         모노 그램 체어  Furniture  Furniture\n"
          ],
          "name": "stdout"
        }
      ]
    },
    {
      "cell_type": "code",
      "metadata": {
        "colab": {
          "base_uri": "https://localhost:8080/"
        },
        "id": "rq0F8V4lN16w",
        "outputId": "b962ffb6-db51-4fe5-9fa8-5026cfcd4c75"
      },
      "source": [
        "test_data_ne['OX'] = 0\n",
        "print(test_data_ne)"
      ],
      "execution_count": null,
      "outputs": [
        {
          "output_type": "stream",
          "text": [
            "                                       title   category    predict  OX\n",
            "0                           윈썸 우드 테이블  Furniture  Furniture   0\n",
            "1                             모노 그램 체어  Furniture  Furniture   0\n",
            "2                        모노 그램 체어 레드  Furniture  Furniture   0\n",
            "3                      모노 그램 체어 네이비  Furniture  Furniture   0\n",
            "4                             모노 그램 체어  Furniture  Furniture   0\n",
            "...                                      ...        ...        ...  ..\n",
            "1783          오로라 영롱 아크릴 마이카 반지    Jewelry    Jewelry   0\n",
            "1784       피닉스 시계 시계 밴드 아크릴 밴드    Jewelry    Jewelry   0\n",
            "1785         피닉스 시계 시계 밴드 가죽 밴드    Jewelry    Jewelry   0\n",
            "1786              피닉스 시계 시계 밴드 밴드    Jewelry    Jewelry   0\n",
            "1787  시계 메탈 시계 오토 매틱 시계 손목시계    Jewelry    Jewelry   0\n",
            "\n",
            "[1788 rows x 4 columns]\n"
          ],
          "name": "stdout"
        }
      ]
    },
    {
      "cell_type": "code",
      "metadata": {
        "colab": {
          "base_uri": "https://localhost:8080/"
        },
        "id": "15HQEWuSN19h",
        "outputId": "2ae09775-a9e9-4830-a96c-1c3e9b846f71"
      },
      "source": [
        "for i in range(len(test_data_ne.predict)):\n",
        "    if test_data_ne.category[i] == test_data_ne.predict[i]:\n",
        "        test_data_ne.OX[i] = 'O'\n",
        "    else:\n",
        "        test_data_ne.OX[i] = 'X'\n",
        "\n",
        "print(test_data_ne.head())"
      ],
      "execution_count": null,
      "outputs": [
        {
          "output_type": "stream",
          "text": [
            "                   title   category    predict OX\n",
            "0       윈썸 우드 테이블  Furniture  Furniture  O\n",
            "1         모노 그램 체어  Furniture  Furniture  O\n",
            "2    모노 그램 체어 레드  Furniture  Furniture  O\n",
            "3  모노 그램 체어 네이비  Furniture  Furniture  O\n",
            "4         모노 그램 체어  Furniture  Furniture  O\n"
          ],
          "name": "stdout"
        },
        {
          "output_type": "stream",
          "text": [
            "/usr/local/lib/python3.7/dist-packages/ipykernel_launcher.py:3: SettingWithCopyWarning: \n",
            "A value is trying to be set on a copy of a slice from a DataFrame\n",
            "\n",
            "See the caveats in the documentation: https://pandas.pydata.org/pandas-docs/stable/user_guide/indexing.html#returning-a-view-versus-a-copy\n",
            "  This is separate from the ipykernel package so we can avoid doing imports until\n",
            "/usr/local/lib/python3.7/dist-packages/pandas/core/indexing.py:670: SettingWithCopyWarning: \n",
            "A value is trying to be set on a copy of a slice from a DataFrame\n",
            "\n",
            "See the caveats in the documentation: https://pandas.pydata.org/pandas-docs/stable/user_guide/indexing.html#returning-a-view-versus-a-copy\n",
            "  iloc._setitem_with_indexer(indexer, value)\n"
          ],
          "name": "stderr"
        }
      ]
    },
    {
      "cell_type": "code",
      "metadata": {
        "colab": {
          "base_uri": "https://localhost:8080/"
        },
        "id": "2skN6HILN2Aa",
        "outputId": "4fb7b440-e808-4433-eff5-d9c944333219"
      },
      "source": [
        "print(test_data_ne.OX.value_counts() / len(test_data_ne.OX))"
      ],
      "execution_count": null,
      "outputs": [
        {
          "output_type": "stream",
          "text": [
            "O    0.808725\n",
            "X    0.191275\n",
            "Name: OX, dtype: float64\n"
          ],
          "name": "stdout"
        }
      ]
    },
    {
      "cell_type": "code",
      "metadata": {
        "colab": {
          "base_uri": "https://localhost:8080/",
          "height": 971
        },
        "id": "-9L7r7O3N2D6",
        "outputId": "1fd3094e-2dd3-4fc1-a63a-36a79a1b0aa7"
      },
      "source": [
        "test_data_ne.iloc[-30:,0:3]"
      ],
      "execution_count": null,
      "outputs": [
        {
          "output_type": "execute_result",
          "data": {
            "text/html": [
              "<div>\n",
              "<style scoped>\n",
              "    .dataframe tbody tr th:only-of-type {\n",
              "        vertical-align: middle;\n",
              "    }\n",
              "\n",
              "    .dataframe tbody tr th {\n",
              "        vertical-align: top;\n",
              "    }\n",
              "\n",
              "    .dataframe thead th {\n",
              "        text-align: right;\n",
              "    }\n",
              "</style>\n",
              "<table border=\"1\" class=\"dataframe\">\n",
              "  <thead>\n",
              "    <tr style=\"text-align: right;\">\n",
              "      <th></th>\n",
              "      <th>title</th>\n",
              "      <th>category</th>\n",
              "      <th>predict</th>\n",
              "    </tr>\n",
              "  </thead>\n",
              "  <tbody>\n",
              "    <tr>\n",
              "      <th>1758</th>\n",
              "      <td>체인 스터링 커플 팔찌</td>\n",
              "      <td>Jewelry</td>\n",
              "      <td>Jewelry</td>\n",
              "    </tr>\n",
              "    <tr>\n",
              "      <th>1759</th>\n",
              "      <td>체인 스터링 성용 커플 팔찌</td>\n",
              "      <td>Jewelry</td>\n",
              "      <td>Jewelry</td>\n",
              "    </tr>\n",
              "    <tr>\n",
              "      <th>1760</th>\n",
              "      <td>스터링 코인 목걸이</td>\n",
              "      <td>Jewelry</td>\n",
              "      <td>Jewelry</td>\n",
              "    </tr>\n",
              "    <tr>\n",
              "      <th>1761</th>\n",
              "      <td>스터링 하트 발찌</td>\n",
              "      <td>Jewelry</td>\n",
              "      <td>Jewelry</td>\n",
              "    </tr>\n",
              "    <tr>\n",
              "      <th>1762</th>\n",
              "      <td>스터링 스네이크 체인 발찌</td>\n",
              "      <td>Jewelry</td>\n",
              "      <td>Jewelry</td>\n",
              "    </tr>\n",
              "    <tr>\n",
              "      <th>1763</th>\n",
              "      <td>스터링 레이어 체인 팔찌</td>\n",
              "      <td>Jewelry</td>\n",
              "      <td>Jewelry</td>\n",
              "    </tr>\n",
              "    <tr>\n",
              "      <th>1764</th>\n",
              "      <td>스터링 믹스 체인 발찌</td>\n",
              "      <td>Jewelry</td>\n",
              "      <td>Jewelry</td>\n",
              "    </tr>\n",
              "    <tr>\n",
              "      <th>1765</th>\n",
              "      <td>스터링 스틸 체인 발찌</td>\n",
              "      <td>Jewelry</td>\n",
              "      <td>Jewelry</td>\n",
              "    </tr>\n",
              "    <tr>\n",
              "      <th>1766</th>\n",
              "      <td>스터링 스틸 체인 팔찌</td>\n",
              "      <td>Jewelry</td>\n",
              "      <td>Jewelry</td>\n",
              "    </tr>\n",
              "    <tr>\n",
              "      <th>1767</th>\n",
              "      <td>스터링 체인 목걸이</td>\n",
              "      <td>Jewelry</td>\n",
              "      <td>Jewelry</td>\n",
              "    </tr>\n",
              "    <tr>\n",
              "      <th>1768</th>\n",
              "      <td>스터링 커브 심플 발찌</td>\n",
              "      <td>Jewelry</td>\n",
              "      <td>Jewelry</td>\n",
              "    </tr>\n",
              "    <tr>\n",
              "      <th>1769</th>\n",
              "      <td>원형 구슬 스터링 목걸이</td>\n",
              "      <td>Jewelry</td>\n",
              "      <td>Jewelry</td>\n",
              "    </tr>\n",
              "    <tr>\n",
              "      <th>1770</th>\n",
              "      <td>컷팅 써클 스터링 목걸이</td>\n",
              "      <td>Jewelry</td>\n",
              "      <td>Jewelry</td>\n",
              "    </tr>\n",
              "    <tr>\n",
              "      <th>1771</th>\n",
              "      <td>원형 스터링 체인 목걸이</td>\n",
              "      <td>Jewelry</td>\n",
              "      <td>Jewelry</td>\n",
              "    </tr>\n",
              "    <tr>\n",
              "      <th>1772</th>\n",
              "      <td>코인 심플 스터링 목걸이</td>\n",
              "      <td>Jewelry</td>\n",
              "      <td>Jewelry</td>\n",
              "    </tr>\n",
              "    <tr>\n",
              "      <th>1773</th>\n",
              "      <td>트렌디 스터링 레이어 체인 목걸이</td>\n",
              "      <td>Jewelry</td>\n",
              "      <td>Jewelry</td>\n",
              "    </tr>\n",
              "    <tr>\n",
              "      <th>1774</th>\n",
              "      <td>트라이앵글 스터링 귀걸이</td>\n",
              "      <td>Jewelry</td>\n",
              "      <td>Jewelry</td>\n",
              "    </tr>\n",
              "    <tr>\n",
              "      <th>1775</th>\n",
              "      <td>포인트 볼륨 하트 스터링 팔찌</td>\n",
              "      <td>Jewelry</td>\n",
              "      <td>Jewelry</td>\n",
              "    </tr>\n",
              "    <tr>\n",
              "      <th>1776</th>\n",
              "      <td>하트 볼륨 스터링 체인 팔찌</td>\n",
              "      <td>Jewelry</td>\n",
              "      <td>Jewelry</td>\n",
              "    </tr>\n",
              "    <tr>\n",
              "      <th>1777</th>\n",
              "      <td>하프 꼬임 스터링 터치 귀걸이</td>\n",
              "      <td>Jewelry</td>\n",
              "      <td>Jewelry</td>\n",
              "    </tr>\n",
              "    <tr>\n",
              "      <th>1778</th>\n",
              "      <td>피닉스 시계 시계 메탈 시계</td>\n",
              "      <td>Jewelry</td>\n",
              "      <td>Jewelry</td>\n",
              "    </tr>\n",
              "    <tr>\n",
              "      <th>1779</th>\n",
              "      <td>피닉스 시계 시계 메탈 시계</td>\n",
              "      <td>Jewelry</td>\n",
              "      <td>Jewelry</td>\n",
              "    </tr>\n",
              "    <tr>\n",
              "      <th>1780</th>\n",
              "      <td>동물 니트 팔찌</td>\n",
              "      <td>Jewelry</td>\n",
              "      <td>FasionGoods</td>\n",
              "    </tr>\n",
              "    <tr>\n",
              "      <th>1781</th>\n",
              "      <td>레이어 심플 베이직 반지</td>\n",
              "      <td>Jewelry</td>\n",
              "      <td>Jewelry</td>\n",
              "    </tr>\n",
              "    <tr>\n",
              "      <th>1782</th>\n",
              "      <td>심플 베이직 레이어 반지</td>\n",
              "      <td>Jewelry</td>\n",
              "      <td>Jewelry</td>\n",
              "    </tr>\n",
              "    <tr>\n",
              "      <th>1783</th>\n",
              "      <td>오로라 영롱 아크릴 마이카 반지</td>\n",
              "      <td>Jewelry</td>\n",
              "      <td>Jewelry</td>\n",
              "    </tr>\n",
              "    <tr>\n",
              "      <th>1784</th>\n",
              "      <td>피닉스 시계 시계 밴드 아크릴 밴드</td>\n",
              "      <td>Jewelry</td>\n",
              "      <td>Jewelry</td>\n",
              "    </tr>\n",
              "    <tr>\n",
              "      <th>1785</th>\n",
              "      <td>피닉스 시계 시계 밴드 가죽 밴드</td>\n",
              "      <td>Jewelry</td>\n",
              "      <td>Jewelry</td>\n",
              "    </tr>\n",
              "    <tr>\n",
              "      <th>1786</th>\n",
              "      <td>피닉스 시계 시계 밴드 밴드</td>\n",
              "      <td>Jewelry</td>\n",
              "      <td>Jewelry</td>\n",
              "    </tr>\n",
              "    <tr>\n",
              "      <th>1787</th>\n",
              "      <td>시계 메탈 시계 오토 매틱 시계 손목시계</td>\n",
              "      <td>Jewelry</td>\n",
              "      <td>Jewelry</td>\n",
              "    </tr>\n",
              "  </tbody>\n",
              "</table>\n",
              "</div>"
            ],
            "text/plain": [
              "                                       title category      predict\n",
              "1758                   체인 스터링 커플 팔찌  Jewelry      Jewelry\n",
              "1759              체인 스터링 성용 커플 팔찌  Jewelry      Jewelry\n",
              "1760                      스터링 코인 목걸이  Jewelry      Jewelry\n",
              "1761                        스터링 하트 발찌  Jewelry      Jewelry\n",
              "1762               스터링 스네이크 체인 발찌  Jewelry      Jewelry\n",
              "1763                 스터링 레이어 체인 팔찌  Jewelry      Jewelry\n",
              "1764                   스터링 믹스 체인 발찌  Jewelry      Jewelry\n",
              "1765                   스터링 스틸 체인 발찌  Jewelry      Jewelry\n",
              "1766                   스터링 스틸 체인 팔찌  Jewelry      Jewelry\n",
              "1767                      스터링 체인 목걸이  Jewelry      Jewelry\n",
              "1768                   스터링 커브 심플 발찌  Jewelry      Jewelry\n",
              "1769                 원형 구슬 스터링 목걸이  Jewelry      Jewelry\n",
              "1770                 컷팅 써클 스터링 목걸이  Jewelry      Jewelry\n",
              "1771                 원형 스터링 체인 목걸이  Jewelry      Jewelry\n",
              "1772                 코인 심플 스터링 목걸이  Jewelry      Jewelry\n",
              "1773        트렌디 스터링 레이어 체인 목걸이  Jewelry      Jewelry\n",
              "1774                트라이앵글 스터링 귀걸이  Jewelry      Jewelry\n",
              "1775            포인트 볼륨 하트 스터링 팔찌  Jewelry      Jewelry\n",
              "1776              하트 볼륨 스터링 체인 팔찌  Jewelry      Jewelry\n",
              "1777            하프 꼬임 스터링 터치 귀걸이  Jewelry      Jewelry\n",
              "1778              피닉스 시계 시계 메탈 시계  Jewelry      Jewelry\n",
              "1779              피닉스 시계 시계 메탈 시계  Jewelry      Jewelry\n",
              "1780                          동물 니트 팔찌  Jewelry  FasionGoods\n",
              "1781                 레이어 심플 베이직 반지  Jewelry      Jewelry\n",
              "1782                 심플 베이직 레이어 반지  Jewelry      Jewelry\n",
              "1783          오로라 영롱 아크릴 마이카 반지  Jewelry      Jewelry\n",
              "1784       피닉스 시계 시계 밴드 아크릴 밴드  Jewelry      Jewelry\n",
              "1785         피닉스 시계 시계 밴드 가죽 밴드  Jewelry      Jewelry\n",
              "1786              피닉스 시계 시계 밴드 밴드  Jewelry      Jewelry\n",
              "1787  시계 메탈 시계 오토 매틱 시계 손목시계  Jewelry      Jewelry"
            ]
          },
          "metadata": {
            "tags": []
          },
          "execution_count": 57
        }
      ]
    },
    {
      "cell_type": "code",
      "metadata": {
        "colab": {
          "base_uri": "https://localhost:8080/"
        },
        "id": "F4x_vgzoN2Gm",
        "outputId": "a9250bf2-6827-49f6-ca48-bb009ecc9501"
      },
      "source": [
        "test_data_ne.to_csv('test_data_ne.csv', encoding='utf-8-sig')    \n",
        "print('저장완료')"
      ],
      "execution_count": null,
      "outputs": [
        {
          "output_type": "stream",
          "text": [
            "저장완료\n"
          ],
          "name": "stdout"
        }
      ]
    },
    {
      "cell_type": "code",
      "metadata": {
        "id": "6qm_7nzBN2JF"
      },
      "source": [
        ""
      ],
      "execution_count": null,
      "outputs": []
    },
    {
      "cell_type": "code",
      "metadata": {
        "id": "CNXJNKcINsP7"
      },
      "source": [
        ""
      ],
      "execution_count": null,
      "outputs": []
    }
  ]
}