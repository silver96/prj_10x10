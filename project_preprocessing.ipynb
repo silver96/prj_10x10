{
  "nbformat": 4,
  "nbformat_minor": 0,
  "metadata": {
    "colab": {
      "name": "project_preprocessing.ipynb",
      "provenance": [],
      "collapsed_sections": [],
      "include_colab_link": true
    },
    "kernelspec": {
      "display_name": "Python 3",
      "name": "python3"
    },
    "language_info": {
      "name": "python"
    }
  },
  "cells": [
    {
      "cell_type": "markdown",
      "metadata": {
        "id": "view-in-github",
        "colab_type": "text"
      },
      "source": [
        "<a href=\"https://colab.research.google.com/github/silver96/prj_10x10/blob/main/project_preprocessing.ipynb\" target=\"_parent\"><img src=\"https://colab.research.google.com/assets/colab-badge.svg\" alt=\"Open In Colab\"/></a>"
      ]
    },
    {
      "cell_type": "code",
      "metadata": {
        "colab": {
          "base_uri": "https://localhost:8080/"
        },
        "id": "wofdYZXv2XHn",
        "outputId": "04eb985b-3a86-476e-dfdf-d62f21e0c882"
      },
      "source": [
        "!pip install konlpy"
      ],
      "execution_count": null,
      "outputs": [
        {
          "output_type": "stream",
          "text": [
            "Requirement already satisfied: konlpy in /usr/local/lib/python3.7/dist-packages (0.5.2)\n",
            "Requirement already satisfied: beautifulsoup4==4.6.0 in /usr/local/lib/python3.7/dist-packages (from konlpy) (4.6.0)\n",
            "Requirement already satisfied: tweepy>=3.7.0 in /usr/local/lib/python3.7/dist-packages (from konlpy) (3.10.0)\n",
            "Requirement already satisfied: numpy>=1.6 in /usr/local/lib/python3.7/dist-packages (from konlpy) (1.19.5)\n",
            "Requirement already satisfied: lxml>=4.1.0 in /usr/local/lib/python3.7/dist-packages (from konlpy) (4.2.6)\n",
            "Requirement already satisfied: JPype1>=0.7.0 in /usr/local/lib/python3.7/dist-packages (from konlpy) (1.3.0)\n",
            "Requirement already satisfied: colorama in /usr/local/lib/python3.7/dist-packages (from konlpy) (0.4.4)\n",
            "Requirement already satisfied: six>=1.10.0 in /usr/local/lib/python3.7/dist-packages (from tweepy>=3.7.0->konlpy) (1.15.0)\n",
            "Requirement already satisfied: requests[socks]>=2.11.1 in /usr/local/lib/python3.7/dist-packages (from tweepy>=3.7.0->konlpy) (2.23.0)\n",
            "Requirement already satisfied: requests-oauthlib>=0.7.0 in /usr/local/lib/python3.7/dist-packages (from tweepy>=3.7.0->konlpy) (1.3.0)\n",
            "Requirement already satisfied: typing-extensions; python_version < \"3.8\" in /usr/local/lib/python3.7/dist-packages (from JPype1>=0.7.0->konlpy) (3.7.4.3)\n",
            "Requirement already satisfied: chardet<4,>=3.0.2 in /usr/local/lib/python3.7/dist-packages (from requests[socks]>=2.11.1->tweepy>=3.7.0->konlpy) (3.0.4)\n",
            "Requirement already satisfied: urllib3!=1.25.0,!=1.25.1,<1.26,>=1.21.1 in /usr/local/lib/python3.7/dist-packages (from requests[socks]>=2.11.1->tweepy>=3.7.0->konlpy) (1.24.3)\n",
            "Requirement already satisfied: idna<3,>=2.5 in /usr/local/lib/python3.7/dist-packages (from requests[socks]>=2.11.1->tweepy>=3.7.0->konlpy) (2.10)\n",
            "Requirement already satisfied: certifi>=2017.4.17 in /usr/local/lib/python3.7/dist-packages (from requests[socks]>=2.11.1->tweepy>=3.7.0->konlpy) (2021.5.30)\n",
            "Requirement already satisfied: PySocks!=1.5.7,>=1.5.6; extra == \"socks\" in /usr/local/lib/python3.7/dist-packages (from requests[socks]>=2.11.1->tweepy>=3.7.0->konlpy) (1.7.1)\n",
            "Requirement already satisfied: oauthlib>=3.0.0 in /usr/local/lib/python3.7/dist-packages (from requests-oauthlib>=0.7.0->tweepy>=3.7.0->konlpy) (3.1.1)\n"
          ],
          "name": "stdout"
        }
      ]
    },
    {
      "cell_type": "code",
      "metadata": {
        "id": "Dv2aaEAy9BzK",
        "colab": {
          "base_uri": "https://localhost:8080/",
          "height": 345
        },
        "outputId": "b6c9fa59-ff64-429e-b395-fa741a4e124d"
      },
      "source": [
        "# 모듈 임포트\n",
        "import pandas as pd\n",
        "import numpy as np\n",
        "from tensorflow.keras.utils import to_categorical\n",
        "from sklearn.model_selection import train_test_split\n",
        "from sklearn.preprocessing import LabelEncoder\n",
        "from tensorflow.keras.preprocessing.text import *\n",
        "from tensorflow.keras.preprocessing.sequence import pad_sequences\n",
        "import pickle # pickle을 이용하면 int 값을 그대로 저장하고 그대로 불러옴\n",
        "from konlpy.tag import Okt # 형태소 분리기 임포트"
      ],
      "execution_count": null,
      "outputs": [
        {
          "output_type": "error",
          "ename": "ModuleNotFoundError",
          "evalue": "ignored",
          "traceback": [
            "\u001b[0;31m---------------------------------------------------------------------------\u001b[0m",
            "\u001b[0;31mModuleNotFoundError\u001b[0m                       Traceback (most recent call last)",
            "\u001b[0;32m<ipython-input-1-8de59170acf2>\u001b[0m in \u001b[0;36m<module>\u001b[0;34m()\u001b[0m\n\u001b[1;32m      8\u001b[0m \u001b[0;32mfrom\u001b[0m \u001b[0mtensorflow\u001b[0m\u001b[0;34m.\u001b[0m\u001b[0mkeras\u001b[0m\u001b[0;34m.\u001b[0m\u001b[0mpreprocessing\u001b[0m\u001b[0;34m.\u001b[0m\u001b[0msequence\u001b[0m \u001b[0;32mimport\u001b[0m \u001b[0mpad_sequences\u001b[0m\u001b[0;34m\u001b[0m\u001b[0;34m\u001b[0m\u001b[0m\n\u001b[1;32m      9\u001b[0m \u001b[0;32mimport\u001b[0m \u001b[0mpickle\u001b[0m \u001b[0;31m# pickle을 이용하면 int 값을 그대로 저장하고 그대로 불러옴\u001b[0m\u001b[0;34m\u001b[0m\u001b[0;34m\u001b[0m\u001b[0m\n\u001b[0;32m---> 10\u001b[0;31m \u001b[0;32mfrom\u001b[0m \u001b[0mkonlpy\u001b[0m\u001b[0;34m.\u001b[0m\u001b[0mtag\u001b[0m \u001b[0;32mimport\u001b[0m \u001b[0mOkt\u001b[0m \u001b[0;31m# 형태소 분리기 임포트\u001b[0m\u001b[0;34m\u001b[0m\u001b[0;34m\u001b[0m\u001b[0m\n\u001b[0m",
            "\u001b[0;31mModuleNotFoundError\u001b[0m: No module named 'konlpy'",
            "",
            "\u001b[0;31m---------------------------------------------------------------------------\u001b[0;32m\nNOTE: If your import is failing due to a missing package, you can\nmanually install dependencies using either !pip or !apt.\n\nTo view examples of installing some common dependencies, click the\n\"Open Examples\" button below.\n\u001b[0;31m---------------------------------------------------------------------------\u001b[0m\n"
          ]
        }
      ]
    },
    {
      "cell_type": "code",
      "metadata": {
        "id": "ugAalvRs9D1L"
      },
      "source": [
        "pd.set_option('display.unicode.east_asian_width',True)"
      ],
      "execution_count": null,
      "outputs": []
    },
    {
      "cell_type": "code",
      "metadata": {
        "colab": {
          "base_uri": "https://localhost:8080/"
        },
        "id": "DLmKuLfV95bB",
        "outputId": "a6684b7c-9c42-4a50-86bd-c47007552101"
      },
      "source": [
        "df = pd.read_csv('/content/10x10(kor2).csv', index_col=0)\n",
        "\n",
        "print(df.head())\n",
        "print(df.info())"
      ],
      "execution_count": null,
      "outputs": [
        {
          "output_type": "stream",
          "text": [
            "                                                          title   category\n",
            "0  리빙숲 각도조절 가능 브리즈 사무실 발받침대 다리받침대......  Furniture\n",
            "1           커블체어      원데이특가   무료배송까지              Furniture\n",
            "2                 자취 꿀템 스누피 테이블 주말 특가              Furniture\n",
            "3  스마트폰 태블릿  거치 인체공학 테이블 베드트레이   ......     Furniture\n",
            "4                  모던데일  단 무빙 트롤리 수납선반             Furniture\n",
            "<class 'pandas.core.frame.DataFrame'>\n",
            "Int64Index: 103666 entries, 0 to 107699\n",
            "Data columns (total 2 columns):\n",
            " #   Column    Non-Null Count   Dtype \n",
            "---  ------    --------------   ----- \n",
            " 0   title     103666 non-null  object\n",
            " 1   category  103666 non-null  object\n",
            "dtypes: object(2)\n",
            "memory usage: 2.4+ MB\n",
            "None\n"
          ],
          "name": "stdout"
        }
      ]
    },
    {
      "cell_type": "code",
      "metadata": {
        "colab": {
          "base_uri": "https://localhost:8080/"
        },
        "id": "13Di8Ffk-JkB",
        "outputId": "42258885-f0f2-4957-d70a-63404123dcf9"
      },
      "source": [
        "# 중복 행 확인\n",
        "col_dup = df['title'].duplicated()\n",
        "print(col_dup)\n",
        "\n",
        "sum_dup = df.title.duplicated().sum()\n",
        "print(sum_dup)"
      ],
      "execution_count": null,
      "outputs": [
        {
          "output_type": "stream",
          "text": [
            "0         False\n",
            "1         False\n",
            "2         False\n",
            "3         False\n",
            "4         False\n",
            "          ...  \n",
            "107695    False\n",
            "107696    False\n",
            "107697    False\n",
            "107698    False\n",
            "107699    False\n",
            "Name: title, Length: 103666, dtype: bool\n",
            "13146\n"
          ],
          "name": "stdout"
        }
      ]
    },
    {
      "cell_type": "code",
      "metadata": {
        "colab": {
          "base_uri": "https://localhost:8080/"
        },
        "id": "iSRSOK2m_E-t",
        "outputId": "09217e23-eff5-443e-c902-e42e3f41bb0e"
      },
      "source": [
        "# title 컬럼 기준으로 중복 제거 (row 통째 제거)\n",
        "df = df.drop_duplicates(subset=['title'])\n",
        "\n",
        "sum_dup = df.title.duplicated().sum()\n",
        "print(sum_dup)"
      ],
      "execution_count": null,
      "outputs": [
        {
          "output_type": "stream",
          "text": [
            "0\n"
          ],
          "name": "stdout"
        }
      ]
    },
    {
      "cell_type": "code",
      "metadata": {
        "id": "PyoEqlu7Gl5x"
      },
      "source": [
        "# 인덱스 새로 고침\n",
        "df.reset_index(drop=True, # False로 줄 시 기존 인덱스를 colum으로 올림\n",
        "               inplace=True)"
      ],
      "execution_count": null,
      "outputs": []
    },
    {
      "cell_type": "code",
      "metadata": {
        "colab": {
          "base_uri": "https://localhost:8080/"
        },
        "id": "SecU-FT-G40E",
        "outputId": "f411302d-885b-45a5-8105-f65993a389e8"
      },
      "source": [
        "print(df.head())\n",
        "print(df.tail())\n"
      ],
      "execution_count": null,
      "outputs": [
        {
          "output_type": "stream",
          "text": [
            "                                                          title   category\n",
            "0  리빙숲 각도조절 가능 브리즈 사무실 발받침대 다리받침대......  Furniture\n",
            "1           커블체어      원데이특가   무료배송까지              Furniture\n",
            "2                 자취 꿀템 스누피 테이블 주말 특가              Furniture\n",
            "3  스마트폰 태블릿  거치 인체공학 테이블 베드트레이   ......     Furniture\n",
            "4                  모던데일  단 무빙 트롤리 수납선반             Furniture\n",
            "                                                             title category\n",
            "90515      센수 멘트 오픈링 패션 꼬임         검지 엄지             Jewelry\n",
            "90516  센수 베니스           빈티지 반지        우정링 엄지 ......  Jewelry\n",
            "90517  센수 메종드      실버  반지        엄지손가락 두줄 ......    Jewelry\n",
            "90518  센수 메리얼 레이어드 두줄 데일리목걸이        여자 ......    Jewelry\n",
            "90519     센수 리얼 송치 가죽         브레이슬릿 여성가             Jewelry\n"
          ],
          "name": "stdout"
        }
      ]
    },
    {
      "cell_type": "code",
      "metadata": {
        "id": "C1623zsOG8HF"
      },
      "source": [
        "# 데이터 나누기\n",
        "X = df['title']\n",
        "Y = df['category']"
      ],
      "execution_count": null,
      "outputs": []
    },
    {
      "cell_type": "code",
      "metadata": {
        "colab": {
          "base_uri": "https://localhost:8080/"
        },
        "id": "2V8Rera1HpE0",
        "outputId": "76f890b5-2c29-47ac-8cf9-df8c3191cd1f"
      },
      "source": [
        "# 원핫인코딩 위해 라벨로 변경\n",
        "encoder = LabelEncoder()\n",
        "labeled_Y = encoder.fit_transform(Y)\n",
        "label = encoder.classes_\n",
        "\n",
        "print(label)"
      ],
      "execution_count": null,
      "outputs": [
        {
          "output_type": "stream",
          "text": [
            "['Baby,Kids' 'Beauty' 'Deco' 'FasihonClothing' 'FasionGoods' 'Food'\n",
            " 'Furniture' 'Jewelry' 'Kitchen' 'Life']\n"
          ],
          "name": "stdout"
        }
      ]
    },
    {
      "cell_type": "code",
      "metadata": {
        "id": "dE2MRzxpIA0Y"
      },
      "source": [
        "# 지정한 라벨 저장\n",
        "# 이미 학습한 라벨들을 이용해야 학습된 결과들과 똑같이 도출\n",
        "\n",
        "with open('/content/10x10_category_encoder.pickle', 'wb') as f:\n",
        "    pickle.dump(encoder, f)   "
      ],
      "execution_count": null,
      "outputs": []
    },
    {
      "cell_type": "code",
      "metadata": {
        "colab": {
          "base_uri": "https://localhost:8080/"
        },
        "id": "qbTLCnt9IDbJ",
        "outputId": "64780d24-eb1d-4360-ac76-957ce3173913"
      },
      "source": [
        "print(labeled_Y)"
      ],
      "execution_count": null,
      "outputs": [
        {
          "output_type": "stream",
          "text": [
            "[6 6 6 ... 7 7 7]\n"
          ],
          "name": "stdout"
        }
      ]
    },
    {
      "cell_type": "code",
      "metadata": {
        "colab": {
          "base_uri": "https://localhost:8080/"
        },
        "id": "28btzrD9IJ04",
        "outputId": "fdda35c1-e599-4aca-b521-8f9a05f85ad6"
      },
      "source": [
        "# 원핫인코딩 => 정답데이터 원핫인코딩(희소벡터처리)\n",
        "onehot_Y = to_categorical(labeled_Y)\n",
        "\n",
        "print(onehot_Y)"
      ],
      "execution_count": null,
      "outputs": [
        {
          "output_type": "stream",
          "text": [
            "[[0. 0. 0. ... 0. 0. 0.]\n",
            " [0. 0. 0. ... 0. 0. 0.]\n",
            " [0. 0. 0. ... 0. 0. 0.]\n",
            " ...\n",
            " [0. 0. 0. ... 1. 0. 0.]\n",
            " [0. 0. 0. ... 1. 0. 0.]\n",
            " [0. 0. 0. ... 1. 0. 0.]]\n"
          ],
          "name": "stdout"
        }
      ]
    },
    {
      "cell_type": "code",
      "metadata": {
        "colab": {
          "base_uri": "https://localhost:8080/"
        },
        "id": "EI7ldGqvITYY",
        "outputId": "d0dea6f7-766e-4362-b226-8e812beb897e"
      },
      "source": [
        "# 첫번째 데이터 형태소로 분리\n",
        "okt = Okt()\n",
        "print(type(X))\n",
        "\n",
        "okt_X = okt.morphs(X[0])\n",
        "print(X[0])\n",
        "print(okt_X)"
      ],
      "execution_count": null,
      "outputs": [
        {
          "output_type": "stream",
          "text": [
            "<class 'pandas.core.series.Series'>\n",
            "리빙숲 각도조절 가능 브리즈 사무실 발받침대 다리받침대\n",
            "['리빙숲', '각도', '조절', '가능', '브리', '즈', '사무실', '발', '받침', '대', '다리', '받침', '대']\n"
          ],
          "name": "stdout"
        }
      ]
    },
    {
      "cell_type": "code",
      "metadata": {
        "colab": {
          "base_uri": "https://localhost:8080/"
        },
        "id": "PxXkml1VIUtd",
        "outputId": "6d316443-17dd-42a9-c617-ed508ba77817"
      },
      "source": [
        "# 모든 row를 형태소로 분리\n",
        "for i in range(len(X)):\n",
        "    X[i] = okt.morphs(X[i])\n",
        "print(X)"
      ],
      "execution_count": null,
      "outputs": [
        {
          "output_type": "stream",
          "text": [
            "0        [리빙숲, 각도, 조절, 가능, 브리, 즈, 사무실, 발, 받침, 대, 다리, 받침...\n",
            "1         [커블, 체어, 원, 데, 이특, 가, 무료, 배송, 까지]\n",
            "2               [자취, 꿀템, 스누피, 테이블, 주말, 특, 가]\n",
            "3        [스마트폰, 태블릿, 거치, 인체, 공학, 테이블, 베드, 트, 레이]...\n",
            "4               [모던, 데일, 단, 무빙, 트롤리, 수납, 선반]\n",
            "                               ...                        \n",
            "90515       [센수, 멘트, 오픈, 링, 패션, 꼬임, 검지, 엄지]\n",
            "90516       [센수, 베니스, 빈티, 지, 반지, 우정, 링, 엄지]\n",
            "90517       [센수, 메종드, 실버, 반지, 엄지손가락, 두, 줄]\n",
            "90518    [센수, 메, 리얼, 레이어, 드, 두, 줄, 데, 일리, 목걸이, 여자]...\n",
            "90519     [센수, 리얼, 송치, 가죽, 브레이, 슬릿, 여성, 가]\n",
            "Name: title, Length: 90520, dtype: object\n"
          ],
          "name": "stdout"
        }
      ]
    },
    {
      "cell_type": "code",
      "metadata": {
        "id": "Vn0FG1kLIade"
      },
      "source": [
        "# stopwords 불러오기\n",
        "stopwords = pd.read_csv('/content/stopwords2.csv')"
      ],
      "execution_count": null,
      "outputs": []
    },
    {
      "cell_type": "code",
      "metadata": {
        "colab": {
          "base_uri": "https://localhost:8080/"
        },
        "id": "hi0XtaEcexnP",
        "outputId": "8deed017-01eb-4099-f656-09095471fccc"
      },
      "source": [
        "# 추가한 stopwords 확인\n",
        "print(stopwords.tail(40))"
      ],
      "execution_count": null,
      "outputs": [
        {
          "output_type": "stream",
          "text": [
            "     Unnamed: 0      stopword\n",
            "831         832          지샥\n",
            "832         833          우레\n",
            "833         834  블렌드바이오\n",
            "834         835          블루\n",
            "835         836          모음\n",
            "836         837        부엉이\n",
            "837         838          스틱\n",
            "838         839            팩\n",
            "839         840          롯데\n",
            "840         841          지애\n",
            "841         842            봉\n",
            "842         843          블랙\n",
            "843         844          레이\n",
            "844         845          러리\n",
            "845         846          당일\n",
            "846         847          발송\n",
            "847         848          순수\n",
            "848         849          핑크\n",
            "849         850          쓱싹\n",
            "850         851          리사\n",
            "851         852          감사\n",
            "852         853        스누피\n",
            "853         854        화이트\n",
            "854         855          송월\n",
            "855         856       그레이 \n",
            "856         857            여\n",
            "857         858      빔보빔바\n",
            "858         859        스마일\n",
            "859         860          쿠룬\n",
            "860         861          스톤\n",
            "861         862          데이\n",
            "862         863          로우\n",
            "863         864          백색\n",
            "864         865          나그\n",
            "865         866        겟잇미\n",
            "866         867            투\n",
            "867         868            데\n",
            "868         869          골드\n",
            "869         870          실버\n",
            "870         871          기본\n"
          ],
          "name": "stdout"
        }
      ]
    },
    {
      "cell_type": "code",
      "metadata": {
        "colab": {
          "base_uri": "https://localhost:8080/"
        },
        "id": "tcvkPiK1e1M0",
        "outputId": "ad6a20c4-c82c-44b5-fc65-6a8be2cc8b77"
      },
      "source": [
        "# stopwords에 있는 단어를 제거하고 리스트에 담기\n",
        "words = [] # 빈 리스트 생성\n",
        "\n",
        "for word in okt_X:\n",
        "    if word not in list(stopwords['stopword']):\n",
        "        words.append(word)\n",
        "print(words)"
      ],
      "execution_count": null,
      "outputs": [
        {
          "output_type": "stream",
          "text": [
            "['리빙숲', '각도', '조절', '가능', '브리', '즈', '사무실', '발', '받침', '대', '다리', '받침', '대']\n"
          ],
          "name": "stdout"
        }
      ]
    },
    {
      "cell_type": "code",
      "metadata": {
        "colab": {
          "base_uri": "https://localhost:8080/"
        },
        "id": "1kn9YweEgP_P",
        "outputId": "ae0a625b-1b69-468a-a082-b41d7fc7a153"
      },
      "source": [
        "# \n",
        "for i in range(len(X)): # X=df['title']\n",
        "    result = []\n",
        "    for j in range(len(X[i])):\n",
        "        if len(X[i][j]) > 1:\n",
        "            if X[i][j] not in list(stopwords['stopword']):\n",
        "                result.append(X[i][j])\n",
        "    X[i] = ' '.join(result)\n",
        "print(X)"
      ],
      "execution_count": null,
      "outputs": [
        {
          "output_type": "stream",
          "text": [
            "0        리빙숲 각도 조절 가능 브리 사무실 받침 다리 받침\n",
            "1                                     커블 체어 이특 무료\n",
            "2                                   자취 꿀템 테이블 주말\n",
            "3              스마트폰 태블릿 거치 인체 공학 테이블 베드\n",
            "4                         모던 데일 무빙 트롤리 수납 선반\n",
            "                               ...                       \n",
            "90515                  센수 멘트 오픈 패션 꼬임 검지 엄지\n",
            "90516                          센수 베니스 반지 우정 엄지\n",
            "90517                         센수 메종드 반지 엄지손가락\n",
            "90518                             센수 리얼 레이어 목걸이\n",
            "90519                     센수 리얼 송치 가죽 브레이 슬릿\n",
            "Name: title, Length: 90520, dtype: object\n"
          ],
          "name": "stdout"
        }
      ]
    },
    {
      "cell_type": "code",
      "metadata": {
        "id": "Tl9kJM6Tj5ki",
        "colab": {
          "base_uri": "https://localhost:8080/"
        },
        "outputId": "29d88122-9349-4e41-e15a-f879b7b4d43d"
      },
      "source": [
        "#단어를 컴퓨터에서 인식시키기 위해 각 단어마다 숫자(라벨링) 부여 => 토큰화\n",
        "# 수치적인 의미는 없음\n",
        "token = Tokenizer()\n",
        "token.fit_on_texts(X)\n",
        "tokened_X = token.texts_to_sequences(X)\n",
        "print(tokened_X[0])"
      ],
      "execution_count": null,
      "outputs": [
        {
          "output_type": "stream",
          "text": [
            "[12173, 2166, 455, 1224, 1257, 716, 127, 872, 127]\n"
          ],
          "name": "stdout"
        }
      ]
    },
    {
      "cell_type": "code",
      "metadata": {
        "id": "vu8I-xFlWQ_1"
      },
      "source": [
        "import pickle\n",
        "#읽고 쓰는 과정에서 데이터의 자료형을 따로 인코딩할 필요 없이 그대로 저장\n",
        "\n",
        "with open('/content/10x10_token3.pickle', 'wb') as f:\n",
        "    pickle.dump(token, f)"
      ],
      "execution_count": null,
      "outputs": []
    },
    {
      "cell_type": "code",
      "metadata": {
        "colab": {
          "base_uri": "https://localhost:8080/"
        },
        "id": "RRixRbYyW7YT",
        "outputId": "47d911e2-fc81-467c-f547-c5072f31bc93"
      },
      "source": [
        "wordsize = len(token.word_index) + 1\n",
        "print(wordsize)"
      ],
      "execution_count": null,
      "outputs": [
        {
          "output_type": "stream",
          "text": [
            "20320\n"
          ],
          "name": "stdout"
        }
      ]
    },
    {
      "cell_type": "code",
      "metadata": {
        "colab": {
          "base_uri": "https://localhost:8080/"
        },
        "id": "IyLzt0LEW8Ul",
        "outputId": "ca2bf177-8722-4073-f4e5-e1eb86360106"
      },
      "source": [
        "max = 0\n",
        "for i in range(len(tokened_X)):\n",
        "    if max < len(tokened_X[i]):\n",
        "        max = len(tokened_X[i])\n",
        "print(max)"
      ],
      "execution_count": null,
      "outputs": [
        {
          "output_type": "stream",
          "text": [
            "13\n"
          ],
          "name": "stdout"
        }
      ]
    },
    {
      "cell_type": "code",
      "metadata": {
        "colab": {
          "base_uri": "https://localhost:8080/"
        },
        "id": "9OMmmEb-W8Zo",
        "outputId": "b877a87b-2113-4238-d3f2-ffd7615ff3f3"
      },
      "source": [
        "#LSTM모델 사용을 위해 데이터 크기가 다른 것들을 0을 채워넣어 max사이즈로 통일시킴\n",
        "X_pad = pad_sequences(tokened_X, max)\n",
        "print(X_pad[:10])"
      ],
      "execution_count": null,
      "outputs": [
        {
          "output_type": "stream",
          "text": [
            "[[    0     0     0     0 12173  2166   455  1224  1257   716   127   872\n",
            "    127]\n",
            " [    0     0     0     0     0     0     0     0     0  6965    22 12174\n",
            "   1654]\n",
            " [    0     0     0     0     0     0     0     0     0  3293 12175     8\n",
            "   8001]\n",
            " [    0     0     0     0     0     0  1961  5217   227  5645  9467     8\n",
            "   1116]\n",
            " [    0     0     0     0     0     0     0    90  1063  3585  2002    20\n",
            "     54]\n",
            " [    0     0     0     0     0     0     0     0     0  4246   896   168\n",
            "    302]\n",
            " [    0     0     0     0     0     0  4247   157   177    43    31  2112\n",
            "    273]\n",
            " [    0     0     0     0     0     0     0  1064    31 12176  1885   243\n",
            "   1064]\n",
            " [    0     0     0     0     0     0     0     0     0     0    12   140\n",
            "      8]\n",
            " [    0     0     0     0     0     0    77 12177 12178  9468    77   242\n",
            "   1162]]\n"
          ],
          "name": "stdout"
        }
      ]
    },
    {
      "cell_type": "code",
      "metadata": {
        "colab": {
          "base_uri": "https://localhost:8080/"
        },
        "id": "IYwujupGW8eB",
        "outputId": "50e31d60-83a0-4824-e6d5-444273a6e108"
      },
      "source": [
        "X_train, X_test, Y_train, Y_test = train_test_split(\n",
        "    X_pad, onehot_Y, test_size=0.1)\n",
        "print(X_train.shape)\n",
        "print(X_test.shape)\n",
        "print(Y_train.shape)\n",
        "print(Y_test.shape)"
      ],
      "execution_count": null,
      "outputs": [
        {
          "output_type": "stream",
          "text": [
            "(81468, 13)\n",
            "(9052, 13)\n",
            "(81468, 10)\n",
            "(9052, 10)\n"
          ],
          "name": "stdout"
        }
      ]
    },
    {
      "cell_type": "code",
      "metadata": {
        "colab": {
          "base_uri": "https://localhost:8080/"
        },
        "id": "MJ3EWHUdXEWj",
        "outputId": "1b94f4e1-890d-4609-b0f6-4459272932cf"
      },
      "source": [
        "xy = X_train, X_test, Y_train, Y_test\n",
        "np.save('/content/10x10_data_max_{}_size_{}_2'.format(max, wordsize), xy)"
      ],
      "execution_count": null,
      "outputs": [
        {
          "output_type": "stream",
          "text": [
            "/usr/local/lib/python3.7/dist-packages/numpy/core/_asarray.py:136: VisibleDeprecationWarning: Creating an ndarray from ragged nested sequences (which is a list-or-tuple of lists-or-tuples-or ndarrays with different lengths or shapes) is deprecated. If you meant to do this, you must specify 'dtype=object' when creating the ndarray\n",
            "  return array(a, dtype, copy=False, order=order, subok=True)\n"
          ],
          "name": "stderr"
        }
      ]
    }
  ]
}