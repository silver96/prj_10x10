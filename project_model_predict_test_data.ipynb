{
  "nbformat": 4,
  "nbformat_minor": 0,
  "metadata": {
    "colab": {
      "name": "project_model_predict_test_data.ipynb",
      "provenance": [],
      "authorship_tag": "ABX9TyM/BHSV99Gw5N+6akKDp77/",
      "include_colab_link": true
    },
    "kernelspec": {
      "name": "python3",
      "display_name": "Python 3"
    },
    "language_info": {
      "name": "python"
    }
  },
  "cells": [
    {
      "cell_type": "markdown",
      "metadata": {
        "id": "view-in-github",
        "colab_type": "text"
      },
      "source": [
        "<a href=\"https://colab.research.google.com/github/silver96/prj_10x10/blob/main/project_model_predict_test_data.ipynb\" target=\"_parent\"><img src=\"https://colab.research.google.com/assets/colab-badge.svg\" alt=\"Open In Colab\"/></a>"
      ]
    },
    {
      "cell_type": "code",
      "metadata": {
        "colab": {
          "base_uri": "https://localhost:8080/"
        },
        "id": "by4G2SSeliS9",
        "outputId": "20165b5b-da88-4db0-b532-bde82fdec50c"
      },
      "source": [
        "!pip install konlpy"
      ],
      "execution_count": null,
      "outputs": [
        {
          "output_type": "stream",
          "text": [
            "Collecting konlpy\n",
            "\u001b[?25l  Downloading https://files.pythonhosted.org/packages/85/0e/f385566fec837c0b83f216b2da65db9997b35dd675e107752005b7d392b1/konlpy-0.5.2-py2.py3-none-any.whl (19.4MB)\n",
            "\u001b[K     |████████████████████████████████| 19.4MB 149kB/s \n",
            "\u001b[?25hCollecting beautifulsoup4==4.6.0\n",
            "\u001b[?25l  Downloading https://files.pythonhosted.org/packages/9e/d4/10f46e5cfac773e22707237bfcd51bbffeaf0a576b0a847ec7ab15bd7ace/beautifulsoup4-4.6.0-py3-none-any.whl (86kB)\n",
            "\u001b[K     |████████████████████████████████| 92kB 9.5MB/s \n",
            "\u001b[?25hCollecting JPype1>=0.7.0\n",
            "\u001b[?25l  Downloading https://files.pythonhosted.org/packages/98/88/f817ef1af6f794e8f11313dcd1549de833f4599abcec82746ab5ed086686/JPype1-1.3.0-cp37-cp37m-manylinux_2_5_x86_64.manylinux1_x86_64.whl (448kB)\n",
            "\u001b[K     |████████████████████████████████| 450kB 39.9MB/s \n",
            "\u001b[?25hCollecting colorama\n",
            "  Downloading https://files.pythonhosted.org/packages/44/98/5b86278fbbf250d239ae0ecb724f8572af1c91f4a11edf4d36a206189440/colorama-0.4.4-py2.py3-none-any.whl\n",
            "Requirement already satisfied: tweepy>=3.7.0 in /usr/local/lib/python3.7/dist-packages (from konlpy) (3.10.0)\n",
            "Requirement already satisfied: lxml>=4.1.0 in /usr/local/lib/python3.7/dist-packages (from konlpy) (4.2.6)\n",
            "Requirement already satisfied: numpy>=1.6 in /usr/local/lib/python3.7/dist-packages (from konlpy) (1.19.5)\n",
            "Requirement already satisfied: typing-extensions; python_version < \"3.8\" in /usr/local/lib/python3.7/dist-packages (from JPype1>=0.7.0->konlpy) (3.7.4.3)\n",
            "Requirement already satisfied: requests[socks]>=2.11.1 in /usr/local/lib/python3.7/dist-packages (from tweepy>=3.7.0->konlpy) (2.23.0)\n",
            "Requirement already satisfied: six>=1.10.0 in /usr/local/lib/python3.7/dist-packages (from tweepy>=3.7.0->konlpy) (1.15.0)\n",
            "Requirement already satisfied: requests-oauthlib>=0.7.0 in /usr/local/lib/python3.7/dist-packages (from tweepy>=3.7.0->konlpy) (1.3.0)\n",
            "Requirement already satisfied: chardet<4,>=3.0.2 in /usr/local/lib/python3.7/dist-packages (from requests[socks]>=2.11.1->tweepy>=3.7.0->konlpy) (3.0.4)\n",
            "Requirement already satisfied: idna<3,>=2.5 in /usr/local/lib/python3.7/dist-packages (from requests[socks]>=2.11.1->tweepy>=3.7.0->konlpy) (2.10)\n",
            "Requirement already satisfied: urllib3!=1.25.0,!=1.25.1,<1.26,>=1.21.1 in /usr/local/lib/python3.7/dist-packages (from requests[socks]>=2.11.1->tweepy>=3.7.0->konlpy) (1.24.3)\n",
            "Requirement already satisfied: certifi>=2017.4.17 in /usr/local/lib/python3.7/dist-packages (from requests[socks]>=2.11.1->tweepy>=3.7.0->konlpy) (2021.5.30)\n",
            "Requirement already satisfied: PySocks!=1.5.7,>=1.5.6; extra == \"socks\" in /usr/local/lib/python3.7/dist-packages (from requests[socks]>=2.11.1->tweepy>=3.7.0->konlpy) (1.7.1)\n",
            "Requirement already satisfied: oauthlib>=3.0.0 in /usr/local/lib/python3.7/dist-packages (from requests-oauthlib>=0.7.0->tweepy>=3.7.0->konlpy) (3.1.1)\n",
            "Installing collected packages: beautifulsoup4, JPype1, colorama, konlpy\n",
            "  Found existing installation: beautifulsoup4 4.6.3\n",
            "    Uninstalling beautifulsoup4-4.6.3:\n",
            "      Successfully uninstalled beautifulsoup4-4.6.3\n",
            "Successfully installed JPype1-1.3.0 beautifulsoup4-4.6.0 colorama-0.4.4 konlpy-0.5.2\n"
          ],
          "name": "stdout"
        }
      ]
    },
    {
      "cell_type": "code",
      "metadata": {
        "id": "r92fvVbkz6RZ"
      },
      "source": [
        ""
      ],
      "execution_count": null,
      "outputs": []
    },
    {
      "cell_type": "code",
      "metadata": {
        "id": "YYbIQilUk8tV"
      },
      "source": [
        "import pandas as pd\n",
        "import numpy as np\n",
        "from tensorflow.keras.models import *\n",
        "import pickle\n",
        "from konlpy.tag import Okt\n",
        "from sklearn.preprocessing import LabelEncoder\n",
        "from tensorflow.keras.utils import to_categorical\n",
        "from keras.preprocessing.text import Tokenizer\n",
        "from tensorflow.keras.preprocessing.sequence import pad_sequences"
      ],
      "execution_count": null,
      "outputs": []
    },
    {
      "cell_type": "code",
      "metadata": {
        "id": "SlisGIdblcbO"
      },
      "source": [
        "pd.set_option('display.unicode.east_asian.width', True)"
      ],
      "execution_count": null,
      "outputs": []
    },
    {
      "cell_type": "code",
      "metadata": {
        "id": "b8bvUA3Ulq0b"
      },
      "source": [
        "with open('/content/datasets/10x10_token3.pickle', 'rb') as f:\n",
        "  token = pickle.load(f) #피클에 저장해놓은 토큰 가져옴"
      ],
      "execution_count": null,
      "outputs": []
    },
    {
      "cell_type": "code",
      "metadata": {
        "colab": {
          "base_uri": "https://localhost:8080/"
        },
        "id": "7F5cx8zSlq7s",
        "outputId": "d5ae442f-98fc-4d68-f229-cef28e22ab81"
      },
      "source": [
        "with open('/content/datasets/10x10_category_encoder.pickle', 'rb') as f:\n",
        "  encoder = pickle.load(f) #피클형태로 저장해놓은 인코더 가져옴\n",
        "category = encoder.classes_\n",
        "print(category)  "
      ],
      "execution_count": null,
      "outputs": [
        {
          "output_type": "stream",
          "text": [
            "['Baby,Kids' 'Beauty' 'Deco' 'FasihonClothing' 'FasionGoods' 'Food'\n",
            " 'Furniture' 'Jewelry' 'Kitchen' 'Life']\n"
          ],
          "name": "stdout"
        }
      ]
    },
    {
      "cell_type": "code",
      "metadata": {
        "colab": {
          "base_uri": "https://localhost:8080/"
        },
        "id": "dTZOax6uNPca",
        "outputId": "2a40b324-c144-4aa4-83c7-64fc3ec04bb7"
      },
      "source": [
        "test_data_ne = pd.read_csv('/content/datasets/test_data_coupang.csv', \n",
        "                            index_col=0)\n",
        "print(test_data_ne.head())"
      ],
      "execution_count": null,
      "outputs": [
        {
          "output_type": "stream",
          "text": [
            "                                                      title   category\n",
            "0                      코멧  단 라탄 서랍장  화이트          Furniture\n",
            "1             코멧 코팅 논슬립 옷걸이  그레이    개          Furniture\n",
            "2  리빙톡 조립식 신발정리함       매직행주      세트 ......  Furniture\n",
            "3              고리회전 논슬립 옷걸이  화이트    개          Furniture\n",
            "4    스칸디나 멀티테이블      티크판넬   블랙프레임          Furniture\n"
          ],
          "name": "stdout"
        }
      ]
    },
    {
      "cell_type": "code",
      "metadata": {
        "colab": {
          "base_uri": "https://localhost:8080/"
        },
        "id": "m1fByvPVNPe-",
        "outputId": "b2cf2fde-b7fd-4b2d-d478-fe2ead238649"
      },
      "source": [
        "print(test_data_ne.info())"
      ],
      "execution_count": null,
      "outputs": [
        {
          "output_type": "stream",
          "text": [
            "<class 'pandas.core.frame.DataFrame'>\n",
            "Int64Index: 600 entries, 0 to 599\n",
            "Data columns (total 2 columns):\n",
            " #   Column    Non-Null Count  Dtype \n",
            "---  ------    --------------  ----- \n",
            " 0   title     600 non-null    object\n",
            " 1   category  600 non-null    object\n",
            "dtypes: object(2)\n",
            "memory usage: 14.1+ KB\n",
            "None\n"
          ],
          "name": "stdout"
        }
      ]
    },
    {
      "cell_type": "code",
      "metadata": {
        "id": "qLCQ2dOOSn0Z"
      },
      "source": [
        "test_data_ne = test_data_ne.dropna(axis=0)\n",
        "\n",
        "test_data_ne.reset_index(drop=True,inplace=True)"
      ],
      "execution_count": null,
      "outputs": []
    },
    {
      "cell_type": "code",
      "metadata": {
        "colab": {
          "base_uri": "https://localhost:8080/"
        },
        "id": "6HYBUGAUSGFE",
        "outputId": "c59f5ab7-4e2d-4d97-edcb-a29cae0d3244"
      },
      "source": [
        "sum_dup = test_data_ne.title.duplicated().sum()#중복 행 개수 확인\n",
        "sum_dup"
      ],
      "execution_count": null,
      "outputs": [
        {
          "output_type": "execute_result",
          "data": {
            "text/plain": [
              "26"
            ]
          },
          "metadata": {
            "tags": []
          },
          "execution_count": 10
        }
      ]
    },
    {
      "cell_type": "code",
      "metadata": {
        "colab": {
          "base_uri": "https://localhost:8080/"
        },
        "id": "cAfaAxq8NPhm",
        "outputId": "fb2bfb65-0f74-4b7a-9d38-8b99687451a6"
      },
      "source": [
        "#중복제거\n",
        "test_data_ne = test_data_ne.drop_duplicates(subset=['title'])#title에서 중복값 존재하는 행 제거한 df생성\n",
        "sum_dup = test_data_ne.title.duplicated().sum()#중복 행 개수 확인\n",
        "print(sum_dup)"
      ],
      "execution_count": null,
      "outputs": [
        {
          "output_type": "stream",
          "text": [
            "0\n"
          ],
          "name": "stdout"
        }
      ]
    },
    {
      "cell_type": "code",
      "metadata": {
        "id": "XhNDDTDgTTO8"
      },
      "source": [
        "test_data_ne.reset_index(drop=True,inplace=True)"
      ],
      "execution_count": null,
      "outputs": []
    },
    {
      "cell_type": "code",
      "metadata": {
        "id": "lXMyRxW2NbFx"
      },
      "source": [
        "#X,Y분류\n",
        "X = test_data_ne['title']\n",
        "Y = test_data_ne['category']"
      ],
      "execution_count": null,
      "outputs": []
    },
    {
      "cell_type": "code",
      "metadata": {
        "colab": {
          "base_uri": "https://localhost:8080/"
        },
        "id": "_HXB6hxNSfh9",
        "outputId": "86df4e2e-06ae-4bac-b6d8-1f20e6849224"
      },
      "source": [
        "test_data_ne.info()"
      ],
      "execution_count": null,
      "outputs": [
        {
          "output_type": "stream",
          "text": [
            "<class 'pandas.core.frame.DataFrame'>\n",
            "RangeIndex: 574 entries, 0 to 573\n",
            "Data columns (total 2 columns):\n",
            " #   Column    Non-Null Count  Dtype \n",
            "---  ------    --------------  ----- \n",
            " 0   title     574 non-null    object\n",
            " 1   category  574 non-null    object\n",
            "dtypes: object(2)\n",
            "memory usage: 9.1+ KB\n"
          ],
          "name": "stdout"
        }
      ]
    },
    {
      "cell_type": "code",
      "metadata": {
        "colab": {
          "base_uri": "https://localhost:8080/"
        },
        "id": "H9E7QNTcNbNT",
        "outputId": "da3edbf9-0f92-4dcb-f7dc-2419ea8da282"
      },
      "source": [
        "okt = Okt()\n",
        "for i in range(len(X)):#X를 각각 형태로 분리 하여 저장\n",
        "  X[i] = okt.morphs(X[i])\n",
        "print(X) "
      ],
      "execution_count": null,
      "outputs": [
        {
          "output_type": "stream",
          "text": [
            "0                   [코멧, 단, 라, 탄, 서랍, 장, 화이트]      \n",
            "1           [코멧, 코팅, 논, 슬립, 옷, 걸이, 그레이, 개]      \n",
            "2      [리빙톡, 조립, 식, 신발, 정리, 함, 매직, 행주, 세트]...\n",
            "3           [고리, 회전, 논, 슬립, 옷, 걸이, 화이트, 개]      \n",
            "4      [스칸, 디나, 멀티, 테이블, 티크, 판넬, 블랙, 프레임]...\n",
            "                                ...                           \n",
            "569    [온리히어, 천연, 원, 석, 종, 건강, 팔찌, 선물, 용, 케이스, 인증서]...\n",
            "570         [알, 뜨리, 귀걸이, 보관, 함, 단, 투명, 개입]      \n",
            "571    [황, 보석, 순은, 실버, 팔찌, 은, 팔찌, 체인, 팔찌, 팔찌]...\n",
            "572    [비즈, 도구, 비즈, 주얼리, 공구, 세트, 종, 집게, 절단, 니, 퍼, 구자,...\n",
            "573    [제이, 에스, 글로벌, 핑크, 돼지, 요술, 허리, 핏, 단추, 단추]...\n",
            "Name: title, Length: 574, dtype: object\n"
          ],
          "name": "stdout"
        }
      ]
    },
    {
      "cell_type": "code",
      "metadata": {
        "id": "yBX7qZhjNbQ7"
      },
      "source": [
        "stopwords = pd.read_csv('/content/datasets/stopwords2.csv')"
      ],
      "execution_count": null,
      "outputs": []
    },
    {
      "cell_type": "code",
      "metadata": {
        "colab": {
          "base_uri": "https://localhost:8080/"
        },
        "id": "L02gg-dsNbT9",
        "outputId": "1b8b799b-d0f0-446d-caf9-c955f893df1e"
      },
      "source": [
        "for i in range(len(X)): #각각의 X를 처리하기 위한 for문\n",
        "    result = []\n",
        "    for j in range(len(X[i])):#형태소 분리한 X의 단어 개수만큼 for문\n",
        "        if len(X[i][j]) > 1: #i번째 X에서 j번째 각각의 단어길이가 1보다 크고\n",
        "            # print(X[i][j])\n",
        "            if X[i][j] not in list(stopwords['stopword']):\n",
        "            #i번째 X에서 j번째 단어에 불용어가 포함되어 있지 않으면  \n",
        "                result.append(X[i][j])\n",
        "    X[i] = ' '.join(result) #공백기준으로 result하나로 합침\n",
        "print(X)      "
      ],
      "execution_count": null,
      "outputs": [
        {
          "output_type": "stream",
          "text": [
            "0                                              코멧 서랍\n",
            "1                             코멧 코팅 슬립 걸이 그레이\n",
            "2                        리빙톡 조립 신발 정리 매직 행주\n",
            "3                                    고리 회전 슬립 걸이\n",
            "4                 스칸 디나 멀티 테이블 티크 판넬 프레임\n",
            "                             ...                        \n",
            "569                온리히어 천연 건강 팔찌 케이스 인증서\n",
            "570                                뜨리 귀걸이 보관 투명\n",
            "571                   보석 순은 팔찌 팔찌 체인 팔찌 팔찌\n",
            "572    비즈 도구 비즈 주얼리 공구 집게 절단 구자 말이집 오링 반지 바늘 송곳 도구...\n",
            "573            제이 에스 글로벌 돼지 요술 허리 단추 단추\n",
            "Name: title, Length: 574, dtype: object\n"
          ],
          "name": "stdout"
        }
      ]
    },
    {
      "cell_type": "code",
      "metadata": {
        "colab": {
          "base_uri": "https://localhost:8080/"
        },
        "id": "AnsEZKa4NbWs",
        "outputId": "0dee65f5-3b59-4d70-ac41-ea71dcdb167c"
      },
      "source": [
        "tokened_X = token.texts_to_sequences(X)\n",
        "\n",
        "print(tokened_X[0])"
      ],
      "execution_count": null,
      "outputs": [
        {
          "output_type": "stream",
          "text": [
            "[82]\n"
          ],
          "name": "stdout"
        }
      ]
    },
    {
      "cell_type": "code",
      "metadata": {
        "colab": {
          "base_uri": "https://localhost:8080/"
        },
        "id": "9TYTFa7KNr8_",
        "outputId": "135a3a3f-2a38-4740-adfc-f5032670469b"
      },
      "source": [
        "X_pad = pad_sequences(tokened_X, 13)#27은 max값\n",
        "print(X_pad[:10])"
      ],
      "execution_count": null,
      "outputs": [
        {
          "output_type": "stream",
          "text": [
            "[[    0     0     0     0     0     0     0     0     0     0     0     0\n",
            "     82]\n",
            " [    0     0     0     0     0     0     0     0     0   950   211    18\n",
            "     88]\n",
            " [    0     0     0     0     0     0     0     0   771   449    31   377\n",
            "    297]\n",
            " [    0     0     0     0     0     0     0     0     0   437   526   211\n",
            "     18]\n",
            " [    0     0     0     0     0     0     0  1722  4128   157     8   583\n",
            "    224]\n",
            " [    0     0     0     0     0     0  5042  1135  9468    77   242  1162\n",
            "  14387]\n",
            " [    0     0     0     0     0     0     0     0     0     0     0   483\n",
            "     54]\n",
            " [    0     0     0     0     0     0     0   211   950   526   315   171\n",
            "     18]\n",
            " [ 1819  1079    87   218   703    87   902  1819  1079    87   136    79\n",
            "    136]\n",
            " [    0     0     0     0     0     0     0     0     0     0     0   841\n",
            "    243]]\n"
          ],
          "name": "stdout"
        }
      ]
    },
    {
      "cell_type": "code",
      "metadata": {
        "id": "0-H9FhE6NPTl"
      },
      "source": [
        "model = load_model('/content/datasets/10x10_classfication_0.9141626358032227.h5')"
      ],
      "execution_count": null,
      "outputs": []
    },
    {
      "cell_type": "code",
      "metadata": {
        "colab": {
          "base_uri": "https://localhost:8080/"
        },
        "id": "6T19k9FyNsEC",
        "outputId": "fbd26a7c-bbd5-4161-d311-7be52a8a2bc2"
      },
      "source": [
        "predict = model.predict(X_pad)\n",
        "\n",
        "print(predict[0])"
      ],
      "execution_count": null,
      "outputs": [
        {
          "output_type": "stream",
          "text": [
            "[5.2269224e-05 3.1469151e-04 2.6011716e-03 7.9198537e-07 2.6086043e-05\n",
            " 5.9336294e-06 9.9466360e-01 1.6714512e-04 1.0582949e-03 1.1100427e-03]\n"
          ],
          "name": "stdout"
        }
      ]
    },
    {
      "cell_type": "code",
      "metadata": {
        "colab": {
          "base_uri": "https://localhost:8080/"
        },
        "id": "6kJLvvRUNsGd",
        "outputId": "a5a19463-b239-443f-bf46-50549bb19fc6"
      },
      "source": [
        "result = np.argmax(predict[0])\n",
        "print(result) #가장 큰 결과값\n",
        "print(category[result]) #Politics 가장 많은 개수"
      ],
      "execution_count": null,
      "outputs": [
        {
          "output_type": "stream",
          "text": [
            "6\n",
            "Furniture\n"
          ],
          "name": "stdout"
        }
      ]
    },
    {
      "cell_type": "code",
      "metadata": {
        "colab": {
          "base_uri": "https://localhost:8080/"
        },
        "id": "wvi6C6f-NsI0",
        "outputId": "41f4a75f-41ee-4b50-b81b-5b5a0eb56730"
      },
      "source": [
        "predict_category = []\n",
        "for pred in predict:\n",
        "    #가장 값이 큰 predict의 인덱스 받아오기\n",
        "    predict_category.append(category[np.argmax(pred)])\n",
        "print(predict_category)    "
      ],
      "execution_count": null,
      "outputs": [
        {
          "output_type": "stream",
          "text": [
            "['Furniture', 'Furniture', 'Life', 'Furniture', 'Furniture', 'Furniture', 'Furniture', 'Furniture', 'Furniture', 'Furniture', 'Furniture', 'Furniture', 'Furniture', 'Furniture', 'Furniture', 'Life', 'Furniture', 'Furniture', 'Furniture', 'Furniture', 'Furniture', 'Kitchen', 'Life', 'Furniture', 'Furniture', 'Furniture', 'Furniture', 'Furniture', 'Furniture', 'Furniture', 'Furniture', 'Furniture', 'Furniture', 'Furniture', 'Furniture', 'Furniture', 'Life', 'Furniture', 'Furniture', 'Furniture', 'Furniture', 'Furniture', 'Life', 'Furniture', 'Furniture', 'Furniture', 'Furniture', 'Furniture', 'Furniture', 'Furniture', 'Furniture', 'Furniture', 'Furniture', 'Furniture', 'Furniture', 'Furniture', 'Furniture', 'Beauty', 'Life', 'Life', 'Beauty', 'Life', 'Life', 'Life', 'Kitchen', 'Life', 'Life', 'Life', 'Life', 'Life', 'Life', 'Life', 'Beauty', 'Baby,Kids', 'Beauty', 'Life', 'Life', 'Life', 'Life', 'Deco', 'Life', 'Beauty', 'Life', 'Life', 'Life', 'Life', 'Life', 'Kitchen', 'Life', 'Life', 'Life', 'Life', 'Life', 'Beauty', 'Beauty', 'Life', 'Life', 'Life', 'Life', 'Beauty', 'Life', 'Life', 'Life', 'Baby,Kids', 'Life', 'Life', 'FasionGoods', 'Furniture', 'Life', 'Baby,Kids', 'Life', 'Beauty', 'Life', 'Furniture', 'Deco', 'Beauty', 'Life', 'Beauty', 'Deco', 'Deco', 'Kitchen', 'Deco', 'Deco', 'Baby,Kids', 'Deco', 'Deco', 'Deco', 'Deco', 'Deco', 'Baby,Kids', 'Deco', 'Deco', 'Deco', 'Beauty', 'Deco', 'Deco', 'Kitchen', 'Deco', 'Deco', 'Deco', 'Deco', 'Deco', 'Furniture', 'Deco', 'Baby,Kids', 'FasionGoods', 'Deco', 'Deco', 'Beauty', 'Deco', 'Deco', 'Deco', 'Deco', 'Life', 'Deco', 'Life', 'Deco', 'Deco', 'Furniture', 'Deco', 'Deco', 'Furniture', 'Deco', 'Deco', 'Deco', 'Furniture', 'Deco', 'Baby,Kids', 'Deco', 'Deco', 'Kitchen', 'Deco', 'Furniture', 'Deco', 'Deco', 'Deco', 'Deco', 'Furniture', 'Food', 'FasionGoods', 'Kitchen', 'Kitchen', 'Beauty', 'Kitchen', 'Kitchen', 'Kitchen', 'Deco', 'Kitchen', 'Kitchen', 'Kitchen', 'Kitchen', 'Kitchen', 'Beauty', 'Kitchen', 'Food', 'Life', 'Kitchen', 'Food', 'Kitchen', 'Kitchen', 'Kitchen', 'Furniture', 'Baby,Kids', 'Furniture', 'Kitchen', 'Life', 'Life', 'Beauty', 'Baby,Kids', 'Life', 'Kitchen', 'Furniture', 'Kitchen', 'Life', 'Food', 'Kitchen', 'Life', 'Baby,Kids', 'Kitchen', 'Kitchen', 'Kitchen', 'Kitchen', 'Kitchen', 'Kitchen', 'Kitchen', 'Kitchen', 'FasionGoods', 'Kitchen', 'Kitchen', 'Kitchen', 'Kitchen', 'Deco', 'Furniture', 'FasionGoods', 'Food', 'Food', 'Beauty', 'Food', 'Deco', 'Food', 'Food', 'Food', 'FasionGoods', 'Deco', 'Food', 'Food', 'Food', 'Food', 'Food', 'Food', 'Food', 'Furniture', 'Food', 'Food', 'Food', 'Food', 'Food', 'Food', 'Food', 'Food', 'FasionGoods', 'Food', 'Kitchen', 'Food', 'Food', 'Baby,Kids', 'Food', 'Food', 'Food', 'Food', 'Food', 'Food', 'Food', 'Food', 'Food', 'Food', 'Food', 'Baby,Kids', 'Baby,Kids', 'Food', 'Food', 'Deco', 'Baby,Kids', 'Food', 'Food', 'Food', 'Food', 'Food', 'Deco', 'Food', 'Baby,Kids', 'Food', 'Food', 'Deco', 'FasionGoods', 'Life', 'Baby,Kids', 'Beauty', 'Kitchen', 'Baby,Kids', 'Baby,Kids', 'FasihonClothing', 'Baby,Kids', 'Baby,Kids', 'Baby,Kids', 'Baby,Kids', 'Food', 'Baby,Kids', 'Baby,Kids', 'Baby,Kids', 'Baby,Kids', 'Baby,Kids', 'Baby,Kids', 'Life', 'Baby,Kids', 'Baby,Kids', 'Baby,Kids', 'FasionGoods', 'Baby,Kids', 'Life', 'Beauty', 'Baby,Kids', 'Deco', 'Food', 'Baby,Kids', 'Baby,Kids', 'Jewelry', 'FasihonClothing', 'FasihonClothing', 'Baby,Kids', 'Food', 'Baby,Kids', 'Baby,Kids', 'Food', 'Baby,Kids', 'Baby,Kids', 'Baby,Kids', 'Baby,Kids', 'Baby,Kids', 'Food', 'Baby,Kids', 'Baby,Kids', 'Baby,Kids', 'Food', 'Baby,Kids', 'FasihonClothing', 'FasihonClothing', 'FasihonClothing', 'Baby,Kids', 'Baby,Kids', 'FasihonClothing', 'FasihonClothing', 'FasihonClothing', 'FasihonClothing', 'Baby,Kids', 'FasihonClothing', 'Baby,Kids', 'FasihonClothing', 'FasihonClothing', 'FasihonClothing', 'FasihonClothing', 'FasihonClothing', 'Baby,Kids', 'FasihonClothing', 'FasihonClothing', 'FasihonClothing', 'FasihonClothing', 'FasihonClothing', 'FasihonClothing', 'FasihonClothing', 'Baby,Kids', 'FasihonClothing', 'FasihonClothing', 'Baby,Kids', 'Baby,Kids', 'FasihonClothing', 'Baby,Kids', 'Beauty', 'FasihonClothing', 'FasihonClothing', 'FasihonClothing', 'FasihonClothing', 'FasihonClothing', 'FasihonClothing', 'FasihonClothing', 'FasihonClothing', 'FasihonClothing', 'FasihonClothing', 'FasihonClothing', 'FasihonClothing', 'FasionGoods', 'FasihonClothing', 'FasihonClothing', 'FasihonClothing', 'Baby,Kids', 'FasihonClothing', 'Jewelry', 'FasihonClothing', 'Baby,Kids', 'Beauty', 'FasihonClothing', 'Baby,Kids', 'FasionGoods', 'FasihonClothing', 'Jewelry', 'Life', 'FasihonClothing', 'FasihonClothing', 'Life', 'Beauty', 'FasihonClothing', 'FasionGoods', 'Food', 'Deco', 'Food', 'FasionGoods', 'FasionGoods', 'Life', 'FasionGoods', 'Beauty', 'FasionGoods', 'FasionGoods', 'FasihonClothing', 'FasionGoods', 'Life', 'FasihonClothing', 'Jewelry', 'FasihonClothing', 'FasionGoods', 'Life', 'FasionGoods', 'FasihonClothing', 'FasihonClothing', 'FasionGoods', 'Life', 'Kitchen', 'FasionGoods', 'FasionGoods', 'Jewelry', 'FasionGoods', 'Life', 'Baby,Kids', 'Jewelry', 'FasionGoods', 'FasionGoods', 'FasionGoods', 'FasionGoods', 'Life', 'FasionGoods', 'Life', 'Life', 'FasionGoods', 'Life', 'FasihonClothing', 'FasionGoods', 'FasionGoods', 'FasihonClothing', 'FasionGoods', 'Life', 'Jewelry', 'FasihonClothing', 'FasihonClothing', 'Beauty', 'Beauty', 'Beauty', 'Beauty', 'Food', 'Food', 'Beauty', 'Beauty', 'Beauty', 'Beauty', 'Beauty', 'Beauty', 'Beauty', 'Beauty', 'Beauty', 'Beauty', 'Beauty', 'FasionGoods', 'Life', 'Beauty', 'Beauty', 'Beauty', 'Beauty', 'Baby,Kids', 'Kitchen', 'Beauty', 'Beauty', 'Beauty', 'Beauty', 'Beauty', 'Beauty', 'Life', 'Beauty', 'Beauty', 'Beauty', 'Beauty', 'Baby,Kids', 'Beauty', 'Beauty', 'Beauty', 'Beauty', 'Beauty', 'Beauty', 'Beauty', 'Kitchen', 'Life', 'Beauty', 'Beauty', 'Beauty', 'Beauty', 'Beauty', 'Deco', 'Beauty', 'FasihonClothing', 'Jewelry', 'Jewelry', 'Jewelry', 'Furniture', 'Jewelry', 'Beauty', 'Deco', 'Jewelry', 'Jewelry', 'Jewelry', 'Baby,Kids', 'Jewelry', 'Beauty', 'Jewelry', 'Life', 'Deco', 'Jewelry', 'FasionGoods', 'Jewelry', 'Jewelry', 'Kitchen', 'Jewelry', 'Jewelry', 'Jewelry', 'FasihonClothing', 'Jewelry', 'Jewelry', 'Jewelry', 'Furniture', 'Jewelry', 'Jewelry', 'Furniture', 'Beauty', 'Jewelry', 'Beauty', 'Jewelry', 'Jewelry', 'Jewelry', 'Jewelry', 'Jewelry', 'Furniture', 'Jewelry', 'Jewelry', 'Jewelry', 'Jewelry', 'Furniture', 'FasihonClothing', 'Furniture', 'Life', 'Furniture', 'Jewelry', 'Furniture', 'Jewelry', 'Furniture', 'Jewelry', 'Jewelry', 'Jewelry', 'Beauty']\n"
          ],
          "name": "stdout"
        }
      ]
    },
    {
      "cell_type": "code",
      "metadata": {
        "colab": {
          "base_uri": "https://localhost:8080/"
        },
        "id": "zxgv6bleNsLy",
        "outputId": "68518fc5-93e2-49f9-c27f-cbcb6de1a6b4"
      },
      "source": [
        "print(Y)"
      ],
      "execution_count": null,
      "outputs": [
        {
          "output_type": "stream",
          "text": [
            "0      Furniture\n",
            "1      Furniture\n",
            "2      Furniture\n",
            "3      Furniture\n",
            "4      Furniture\n",
            "         ...    \n",
            "569      Jewelry\n",
            "570      Jewelry\n",
            "571      Jewelry\n",
            "572      Jewelry\n",
            "573      Jewelry\n",
            "Name: category, Length: 574, dtype: object\n"
          ],
          "name": "stdout"
        }
      ]
    },
    {
      "cell_type": "code",
      "metadata": {
        "colab": {
          "base_uri": "https://localhost:8080/"
        },
        "id": "WkhkB1IGN14D",
        "outputId": "76d84861-ed53-49df-fa10-85473c6d664e"
      },
      "source": [
        "test_data_ne['predict'] = predict_category#predict이란 카테고리 추가\n",
        "print(test_data_ne.head())"
      ],
      "execution_count": null,
      "outputs": [
        {
          "output_type": "stream",
          "text": [
            "                                    title   category    predict\n",
            "0                               코멧 서랍  Furniture  Furniture\n",
            "1              코멧 코팅 슬립 걸이 그레이  Furniture  Furniture\n",
            "2         리빙톡 조립 신발 정리 매직 행주  Furniture       Life\n",
            "3                     고리 회전 슬립 걸이  Furniture  Furniture\n",
            "4  스칸 디나 멀티 테이블 티크 판넬 프레임  Furniture  Furniture\n"
          ],
          "name": "stdout"
        }
      ]
    },
    {
      "cell_type": "code",
      "metadata": {
        "colab": {
          "base_uri": "https://localhost:8080/"
        },
        "id": "rq0F8V4lN16w",
        "outputId": "70aa828d-5bea-4458-a194-793276044518"
      },
      "source": [
        "test_data_ne['OX'] = 0\n",
        "print(test_data_ne)"
      ],
      "execution_count": null,
      "outputs": [
        {
          "output_type": "stream",
          "text": [
            "                                                                               title  ... OX\n",
            "0                                            코멧 서랍                                ...  0\n",
            "1                           코멧 코팅 슬립 걸이 그레이                                ...  0\n",
            "2                      리빙톡 조립 신발 정리 매직 행주                                ...  0\n",
            "3                                  고리 회전 슬립 걸이                                ...  0\n",
            "4               스칸 디나 멀티 테이블 티크 판넬 프레임                                ...  0\n",
            "..                                                 ...                                ... ..\n",
            "569              온리히어 천연 건강 팔찌 케이스 인증서                                ...  0\n",
            "570                              뜨리 귀걸이 보관 투명                                ...  0\n",
            "571                 보석 순은 팔찌 팔찌 체인 팔찌 팔찌                                ...  0\n",
            "572  비즈 도구 비즈 주얼리 공구 집게 절단 구자 말이집 오링 반지 바늘 송곳 도구......  ...  0\n",
            "573          제이 에스 글로벌 돼지 요술 허리 단추 단추                                ...  0\n",
            "\n",
            "[574 rows x 4 columns]\n"
          ],
          "name": "stdout"
        }
      ]
    },
    {
      "cell_type": "code",
      "metadata": {
        "colab": {
          "base_uri": "https://localhost:8080/"
        },
        "id": "15HQEWuSN19h",
        "outputId": "86a9926d-3451-4596-8966-971f83478366"
      },
      "source": [
        "for i in range(len(test_data_ne.predict)):\n",
        "    if test_data_ne.category[i] == test_data_ne.predict[i]:\n",
        "        test_data_ne.OX[i] = 'O'\n",
        "    else:\n",
        "        test_data_ne.OX[i] = 'X'\n",
        "\n",
        "print(test_data_ne.head())"
      ],
      "execution_count": null,
      "outputs": [
        {
          "output_type": "stream",
          "text": [
            "                                    title   category    predict OX\n",
            "0                               코멧 서랍  Furniture  Furniture  O\n",
            "1              코멧 코팅 슬립 걸이 그레이  Furniture  Furniture  O\n",
            "2         리빙톡 조립 신발 정리 매직 행주  Furniture       Life  X\n",
            "3                     고리 회전 슬립 걸이  Furniture  Furniture  O\n",
            "4  스칸 디나 멀티 테이블 티크 판넬 프레임  Furniture  Furniture  O\n"
          ],
          "name": "stdout"
        },
        {
          "output_type": "stream",
          "text": [
            "/usr/local/lib/python3.7/dist-packages/ipykernel_launcher.py:3: SettingWithCopyWarning: \n",
            "A value is trying to be set on a copy of a slice from a DataFrame\n",
            "\n",
            "See the caveats in the documentation: https://pandas.pydata.org/pandas-docs/stable/user_guide/indexing.html#returning-a-view-versus-a-copy\n",
            "  This is separate from the ipykernel package so we can avoid doing imports until\n",
            "/usr/local/lib/python3.7/dist-packages/pandas/core/indexing.py:670: SettingWithCopyWarning: \n",
            "A value is trying to be set on a copy of a slice from a DataFrame\n",
            "\n",
            "See the caveats in the documentation: https://pandas.pydata.org/pandas-docs/stable/user_guide/indexing.html#returning-a-view-versus-a-copy\n",
            "  iloc._setitem_with_indexer(indexer, value)\n"
          ],
          "name": "stderr"
        }
      ]
    },
    {
      "cell_type": "code",
      "metadata": {
        "colab": {
          "base_uri": "https://localhost:8080/"
        },
        "id": "2skN6HILN2Aa",
        "outputId": "522facb8-fb2b-42c9-d011-c110463896a4"
      },
      "source": [
        "print(test_data_ne.OX.value_counts() / len(test_data_ne.OX))"
      ],
      "execution_count": null,
      "outputs": [
        {
          "output_type": "stream",
          "text": [
            "O    0.665505\n",
            "X    0.334495\n",
            "Name: OX, dtype: float64\n"
          ],
          "name": "stdout"
        }
      ]
    },
    {
      "cell_type": "code",
      "metadata": {
        "colab": {
          "base_uri": "https://localhost:8080/",
          "height": 973
        },
        "id": "-9L7r7O3N2D6",
        "outputId": "c2c11e36-a824-4f0a-e873-31526bbba64c"
      },
      "source": [
        "test_data_ne.iloc[-30:,0:3]"
      ],
      "execution_count": null,
      "outputs": [
        {
          "output_type": "execute_result",
          "data": {
            "text/html": [
              "<div>\n",
              "<style scoped>\n",
              "    .dataframe tbody tr th:only-of-type {\n",
              "        vertical-align: middle;\n",
              "    }\n",
              "\n",
              "    .dataframe tbody tr th {\n",
              "        vertical-align: top;\n",
              "    }\n",
              "\n",
              "    .dataframe thead th {\n",
              "        text-align: right;\n",
              "    }\n",
              "</style>\n",
              "<table border=\"1\" class=\"dataframe\">\n",
              "  <thead>\n",
              "    <tr style=\"text-align: right;\">\n",
              "      <th></th>\n",
              "      <th>title</th>\n",
              "      <th>category</th>\n",
              "      <th>predict</th>\n",
              "    </tr>\n",
              "  </thead>\n",
              "  <tbody>\n",
              "    <tr>\n",
              "      <th>544</th>\n",
              "      <td>한국 동산 감정 천사 날개 순금 반지 백일 첫돌</td>\n",
              "      <td>Jewelry</td>\n",
              "      <td>Furniture</td>\n",
              "    </tr>\n",
              "    <tr>\n",
              "      <th>545</th>\n",
              "      <td>카와이 드레스 악세사리 보관 귀걸이 보석</td>\n",
              "      <td>Jewelry</td>\n",
              "      <td>Jewelry</td>\n",
              "    </tr>\n",
              "    <tr>\n",
              "      <th>546</th>\n",
              "      <td>매드 실리콘 바벨 피어싱</td>\n",
              "      <td>Jewelry</td>\n",
              "      <td>Jewelry</td>\n",
              "    </tr>\n",
              "    <tr>\n",
              "      <th>547</th>\n",
              "      <td>악세서리 정리 후크 네이비</td>\n",
              "      <td>Jewelry</td>\n",
              "      <td>Furniture</td>\n",
              "    </tr>\n",
              "    <tr>\n",
              "      <th>548</th>\n",
              "      <td>카와이 주얼리 클리</td>\n",
              "      <td>Jewelry</td>\n",
              "      <td>Beauty</td>\n",
              "    </tr>\n",
              "    <tr>\n",
              "      <th>549</th>\n",
              "      <td>매드 터치 세그먼트 피어싱</td>\n",
              "      <td>Jewelry</td>\n",
              "      <td>Jewelry</td>\n",
              "    </tr>\n",
              "    <tr>\n",
              "      <th>550</th>\n",
              "      <td>순금 골드바</td>\n",
              "      <td>Jewelry</td>\n",
              "      <td>Beauty</td>\n",
              "    </tr>\n",
              "    <tr>\n",
              "      <th>551</th>\n",
              "      <td>딩동샵 써지 스틸 십자가 하프 체인 팔찌</td>\n",
              "      <td>Jewelry</td>\n",
              "      <td>Jewelry</td>\n",
              "    </tr>\n",
              "    <tr>\n",
              "      <th>552</th>\n",
              "      <td>슈가 도금 대나무 체인 목걸이 패션 목걸이</td>\n",
              "      <td>Jewelry</td>\n",
              "      <td>Jewelry</td>\n",
              "    </tr>\n",
              "    <tr>\n",
              "      <th>553</th>\n",
              "      <td>빅애플 목걸이 일자</td>\n",
              "      <td>Jewelry</td>\n",
              "      <td>Jewelry</td>\n",
              "    </tr>\n",
              "    <tr>\n",
              "      <th>554</th>\n",
              "      <td>매드 자바 라블렛바 써지 스틸 알러지 피어싱 피어싱 부자...</td>\n",
              "      <td>Jewelry</td>\n",
              "      <td>Jewelry</td>\n",
              "    </tr>\n",
              "    <tr>\n",
              "      <th>555</th>\n",
              "      <td>투명 아크릴 귀걸이 악세사리 보관 목걸이 정리</td>\n",
              "      <td>Jewelry</td>\n",
              "      <td>Jewelry</td>\n",
              "    </tr>\n",
              "    <tr>\n",
              "      <th>556</th>\n",
              "      <td>시계 보관</td>\n",
              "      <td>Jewelry</td>\n",
              "      <td>Furniture</td>\n",
              "    </tr>\n",
              "    <tr>\n",
              "      <th>557</th>\n",
              "      <td>바벨론 팔찌</td>\n",
              "      <td>Jewelry</td>\n",
              "      <td>Jewelry</td>\n",
              "    </tr>\n",
              "    <tr>\n",
              "      <th>558</th>\n",
              "      <td>매드 이드 방지 디스크 피어싱</td>\n",
              "      <td>Jewelry</td>\n",
              "      <td>Jewelry</td>\n",
              "    </tr>\n",
              "    <tr>\n",
              "      <th>559</th>\n",
              "      <td>매드 아크릴 투명 피어싱 써지 스틸 알러지</td>\n",
              "      <td>Jewelry</td>\n",
              "      <td>Jewelry</td>\n",
              "    </tr>\n",
              "    <tr>\n",
              "      <th>560</th>\n",
              "      <td>라파엘 스트랩 팔찌</td>\n",
              "      <td>Jewelry</td>\n",
              "      <td>Jewelry</td>\n",
              "    </tr>\n",
              "    <tr>\n",
              "      <th>561</th>\n",
              "      <td>트롤리 화장 서랍 정리 칸막이 악세사리 보관</td>\n",
              "      <td>Jewelry</td>\n",
              "      <td>Furniture</td>\n",
              "    </tr>\n",
              "    <tr>\n",
              "      <th>562</th>\n",
              "      <td>한국 거래소</td>\n",
              "      <td>Jewelry</td>\n",
              "      <td>FasihonClothing</td>\n",
              "    </tr>\n",
              "    <tr>\n",
              "      <th>563</th>\n",
              "      <td>캐릭터 시계 거치 보관 알프레드</td>\n",
              "      <td>Jewelry</td>\n",
              "      <td>Furniture</td>\n",
              "    </tr>\n",
              "    <tr>\n",
              "      <th>564</th>\n",
              "      <td>케어 프린 티타늄 정전기 완화 팔찌</td>\n",
              "      <td>Jewelry</td>\n",
              "      <td>Life</td>\n",
              "    </tr>\n",
              "    <tr>\n",
              "      <th>565</th>\n",
              "      <td>한국 동산 감정 천사 날개 순금 반지 백일 첫돌</td>\n",
              "      <td>Jewelry</td>\n",
              "      <td>Furniture</td>\n",
              "    </tr>\n",
              "    <tr>\n",
              "      <th>566</th>\n",
              "      <td>에르 제이 노무 만트라 염주 팔찌</td>\n",
              "      <td>Jewelry</td>\n",
              "      <td>Jewelry</td>\n",
              "    </tr>\n",
              "    <tr>\n",
              "      <th>567</th>\n",
              "      <td>푸디 크리스탈 악세사리 유리 보석</td>\n",
              "      <td>Jewelry</td>\n",
              "      <td>Furniture</td>\n",
              "    </tr>\n",
              "    <tr>\n",
              "      <th>568</th>\n",
              "      <td>제이크 비트 커플 가죽 팔찌</td>\n",
              "      <td>Jewelry</td>\n",
              "      <td>Jewelry</td>\n",
              "    </tr>\n",
              "    <tr>\n",
              "      <th>569</th>\n",
              "      <td>온리히어 천연 건강 팔찌 케이스 인증서</td>\n",
              "      <td>Jewelry</td>\n",
              "      <td>Furniture</td>\n",
              "    </tr>\n",
              "    <tr>\n",
              "      <th>570</th>\n",
              "      <td>뜨리 귀걸이 보관 투명</td>\n",
              "      <td>Jewelry</td>\n",
              "      <td>Jewelry</td>\n",
              "    </tr>\n",
              "    <tr>\n",
              "      <th>571</th>\n",
              "      <td>보석 순은 팔찌 팔찌 체인 팔찌 팔찌</td>\n",
              "      <td>Jewelry</td>\n",
              "      <td>Jewelry</td>\n",
              "    </tr>\n",
              "    <tr>\n",
              "      <th>572</th>\n",
              "      <td>비즈 도구 비즈 주얼리 공구 집게 절단 구자 말이집 오링 반지 바늘 송곳 도구...</td>\n",
              "      <td>Jewelry</td>\n",
              "      <td>Jewelry</td>\n",
              "    </tr>\n",
              "    <tr>\n",
              "      <th>573</th>\n",
              "      <td>제이 에스 글로벌 돼지 요술 허리 단추 단추</td>\n",
              "      <td>Jewelry</td>\n",
              "      <td>Beauty</td>\n",
              "    </tr>\n",
              "  </tbody>\n",
              "</table>\n",
              "</div>"
            ],
            "text/plain": [
              "                                                                               title  ...          predict\n",
              "544       한국 동산 감정 천사 날개 순금 반지 백일 첫돌                                ...        Furniture\n",
              "545            카와이 드레스 악세사리 보관 귀걸이 보석                                ...          Jewelry\n",
              "546                            매드 실리콘 바벨 피어싱                                ...          Jewelry\n",
              "547                          악세서리 정리 후크 네이비                                ...        Furniture\n",
              "548                                 카와이 주얼리 클리                                ...           Beauty\n",
              "549                          매드 터치 세그먼트 피어싱                                ...          Jewelry\n",
              "550                                        순금 골드바                                ...           Beauty\n",
              "551             딩동샵 써지 스틸 십자가 하프 체인 팔찌                                ...          Jewelry\n",
              "552           슈가 도금 대나무 체인 목걸이 패션 목걸이                                ...          Jewelry\n",
              "553                                 빅애플 목걸이 일자                                ...          Jewelry\n",
              "554  매드 자바 라블렛바 써지 스틸 알러지 피어싱 피어싱 부자......                     ...          Jewelry\n",
              "555       투명 아크릴 귀걸이 악세사리 보관 목걸이 정리                                ...          Jewelry\n",
              "556                                          시계 보관                                ...        Furniture\n",
              "557                                        바벨론 팔찌                                ...          Jewelry\n",
              "558                       매드 이드 방지 디스크 피어싱                                ...          Jewelry\n",
              "559           매드 아크릴 투명 피어싱 써지 스틸 알러지                                ...          Jewelry\n",
              "560                                 라파엘 스트랩 팔찌                                ...          Jewelry\n",
              "561         트롤리 화장 서랍 정리 칸막이 악세사리 보관                                ...        Furniture\n",
              "562                                        한국 거래소                                ...  FasihonClothing\n",
              "563                     캐릭터 시계 거치 보관 알프레드                                ...        Furniture\n",
              "564                  케어 프린 티타늄 정전기 완화 팔찌                                ...             Life\n",
              "565       한국 동산 감정 천사 날개 순금 반지 백일 첫돌                                ...        Furniture\n",
              "566                    에르 제이 노무 만트라 염주 팔찌                                ...          Jewelry\n",
              "567                   푸디 크리스탈 악세사리 유리 보석                                ...        Furniture\n",
              "568                         제이크 비트 커플 가죽 팔찌                                ...          Jewelry\n",
              "569              온리히어 천연 건강 팔찌 케이스 인증서                                ...        Furniture\n",
              "570                              뜨리 귀걸이 보관 투명                                ...          Jewelry\n",
              "571                 보석 순은 팔찌 팔찌 체인 팔찌 팔찌                                ...          Jewelry\n",
              "572  비즈 도구 비즈 주얼리 공구 집게 절단 구자 말이집 오링 반지 바늘 송곳 도구......  ...          Jewelry\n",
              "573          제이 에스 글로벌 돼지 요술 허리 단추 단추                                ...           Beauty\n",
              "\n",
              "[30 rows x 3 columns]"
            ]
          },
          "metadata": {
            "tags": []
          },
          "execution_count": 31
        }
      ]
    },
    {
      "cell_type": "code",
      "metadata": {
        "colab": {
          "base_uri": "https://localhost:8080/"
        },
        "id": "F4x_vgzoN2Gm",
        "outputId": "7415fece-ef5a-47d6-bb59-9812bd69ae92"
      },
      "source": [
        "test_data_ne.to_csv('test_data_coupang.csv', encoding='utf-8-sig')    \n",
        "print('저장완료')"
      ],
      "execution_count": null,
      "outputs": [
        {
          "output_type": "stream",
          "text": [
            "저장완료\n"
          ],
          "name": "stdout"
        }
      ]
    },
    {
      "cell_type": "code",
      "metadata": {
        "id": "6qm_7nzBN2JF"
      },
      "source": [
        ""
      ],
      "execution_count": null,
      "outputs": []
    },
    {
      "cell_type": "code",
      "metadata": {
        "id": "CNXJNKcINsP7"
      },
      "source": [
        ""
      ],
      "execution_count": null,
      "outputs": []
    }
  ]
}