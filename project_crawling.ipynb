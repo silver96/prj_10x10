{
  "nbformat": 4,
  "nbformat_minor": 0,
  "metadata": {
    "colab": {
      "name": "project_crawling.ipynb",
      "provenance": [],
      "collapsed_sections": []
    },
    "kernelspec": {
      "name": "python3",
      "display_name": "Python 3"
    },
    "language_info": {
      "name": "python"
    },
    "accelerator": "GPU"
  },
  "cells": [
    {
      "cell_type": "markdown",
      "metadata": {
        "id": "4jc0CCygp7-4"
      },
      "source": [
        "1 - 150 페이지까지 데이터 수집\n",
        "    re.sub('찾을 패턴', '찾은 패턴을 변경할 내용', '원본')'\n",
        "    \n",
        "\n"
      ]
    },
    {
      "cell_type": "code",
      "metadata": {
        "id": "jaV8Oq2ThQP7",
        "colab": {
          "base_uri": "https://localhost:8080/",
          "height": 408
        },
        "outputId": "f2f82f4f-5b72-4bc8-dc07-1479f0467e16"
      },
      "source": [
        "from google.colab import drive\n",
        "drive.mount('/content/drive')"
      ],
      "execution_count": null,
      "outputs": [
        {
          "output_type": "stream",
          "text": [
            "Go to this URL in a browser: https://accounts.google.com/o/oauth2/auth?client_id=947318989803-6bn6qk8qdgf4n4g3pfee6491hc0brc4i.apps.googleusercontent.com&redirect_uri=urn%3aietf%3awg%3aoauth%3a2.0%3aoob&scope=email%20https%3a%2f%2fwww.googleapis.com%2fauth%2fdocs.test%20https%3a%2f%2fwww.googleapis.com%2fauth%2fdrive%20https%3a%2f%2fwww.googleapis.com%2fauth%2fdrive.photos.readonly%20https%3a%2f%2fwww.googleapis.com%2fauth%2fpeopleapi.readonly%20https%3a%2f%2fwww.googleapis.com%2fauth%2fdrive.activity.readonly%20https%3a%2f%2fwww.googleapis.com%2fauth%2fexperimentsandconfigs%20https%3a%2f%2fwww.googleapis.com%2fauth%2fphotos.native&response_type=code\n",
            "\n",
            "Enter your authorization code:\n",
            "git remote add origin https://github.com/silver96/prj_10x10.git\n"
          ],
          "name": "stdout"
        },
        {
          "output_type": "error",
          "ename": "ValueError",
          "evalue": "ignored",
          "traceback": [
            "\u001b[0;31m---------------------------------------------------------------------------\u001b[0m",
            "\u001b[0;31mValueError\u001b[0m                                Traceback (most recent call last)",
            "\u001b[0;32m<ipython-input-1-d5df0069828e>\u001b[0m in \u001b[0;36m<module>\u001b[0;34m()\u001b[0m\n\u001b[1;32m      1\u001b[0m \u001b[0;32mfrom\u001b[0m \u001b[0mgoogle\u001b[0m\u001b[0;34m.\u001b[0m\u001b[0mcolab\u001b[0m \u001b[0;32mimport\u001b[0m \u001b[0mdrive\u001b[0m\u001b[0;34m\u001b[0m\u001b[0;34m\u001b[0m\u001b[0m\n\u001b[0;32m----> 2\u001b[0;31m \u001b[0mdrive\u001b[0m\u001b[0;34m.\u001b[0m\u001b[0mmount\u001b[0m\u001b[0;34m(\u001b[0m\u001b[0;34m'/content/drive'\u001b[0m\u001b[0;34m)\u001b[0m\u001b[0;34m\u001b[0m\u001b[0;34m\u001b[0m\u001b[0m\n\u001b[0m",
            "\u001b[0;32m/usr/local/lib/python3.7/dist-packages/google/colab/drive.py\u001b[0m in \u001b[0;36mmount\u001b[0;34m(mountpoint, force_remount, timeout_ms, use_metadata_server)\u001b[0m\n\u001b[1;32m    265\u001b[0m       \u001b[0mwrote_to_fifo\u001b[0m \u001b[0;34m=\u001b[0m \u001b[0;32mTrue\u001b[0m\u001b[0;34m\u001b[0m\u001b[0;34m\u001b[0m\u001b[0m\n\u001b[1;32m    266\u001b[0m     \u001b[0;32melif\u001b[0m \u001b[0mcase\u001b[0m \u001b[0;34m==\u001b[0m \u001b[0;36m5\u001b[0m\u001b[0;34m:\u001b[0m\u001b[0;34m\u001b[0m\u001b[0;34m\u001b[0m\u001b[0m\n\u001b[0;32m--> 267\u001b[0;31m       \u001b[0;32mraise\u001b[0m \u001b[0mValueError\u001b[0m\u001b[0;34m(\u001b[0m\u001b[0;34m'mount failed: invalid oauth code'\u001b[0m\u001b[0;34m)\u001b[0m\u001b[0;34m\u001b[0m\u001b[0;34m\u001b[0m\u001b[0m\n\u001b[0m\u001b[1;32m    268\u001b[0m     \u001b[0;32melif\u001b[0m \u001b[0mcase\u001b[0m \u001b[0;34m==\u001b[0m \u001b[0;36m6\u001b[0m\u001b[0;34m:\u001b[0m\u001b[0;34m\u001b[0m\u001b[0;34m\u001b[0m\u001b[0m\n\u001b[1;32m    269\u001b[0m       \u001b[0;31m# Terminate the DriveFS binary before killing bash.\u001b[0m\u001b[0;34m\u001b[0m\u001b[0;34m\u001b[0m\u001b[0;34m\u001b[0m\u001b[0m\n",
            "\u001b[0;31mValueError\u001b[0m: mount failed: invalid oauth code"
          ]
        }
      ]
    },
    {
      "cell_type": "markdown",
      "metadata": {
        "id": "ox6Vj2cORbOa"
      },
      "source": [
        "#카테고리 별 크롤링하여 10개 카테고리를 하나의 csv파일로 합침"
      ]
    },
    {
      "cell_type": "code",
      "metadata": {
        "id": "jSuGSCOxhkMe",
        "colab": {
          "base_uri": "https://localhost:8080/"
        },
        "outputId": "51694930-b428-4f50-a895-24485d3dcd5f"
      },
      "source": [
        "import requests\n",
        "import pandas as pd\n",
        "from bs4 import BeautifulSoup\n",
        "import re\n",
        "\n",
        "# 카테고리 설정 및 카테고리 별 url 숫자 지정\n",
        "Category = ['Furniture','Life','Deco','Kitchen','Food','Baby,Kids','FasihonClothing','FasionGoods','Beauty','Jewelry']\n",
        "Category_num = ['121','120','122','112','119','115','117','116','118','125']               \n",
        "\n",
        "# 빈 데이터프레임 생성\n",
        "df_section_title = pd.DataFrame()\n",
        "\n",
        "for j in range(0,10):\n",
        "    category = Category[j]\n",
        "    print(category, ' 카테고리 크롤링 시작')\n",
        "    category_num = Category_num[j]\n",
        "    key_list = []\n",
        "    \n",
        "    #3페이지만 크롤링\n",
        "    for i in range(1,151):\n",
        "        \n",
        "        # 제목 추출  \n",
        "        url = f'https://www.10x10.co.kr/shopping/category_main.asp?rect=&prvtxt=&rstxt=&extxt=&sflag=n&disp={category_num}&cpg={i}&chkr=False&chke=False&mkr=&sscp=Y&psz=40&srm=ne&iccd=0&styleCd=&attribCd=&icoSize=S&arrCate=&deliType=&minPrc=&maxPrc=&lstDiv=list&ab='\n",
        "        headers = {'user-agent': 'Mozilla/5.0 (Windows NT 10.0; Win64; x64) AppleWebKit/537.36 (KHTML, like Gecko) Chrome/90.0.4430.85 Safari/537.36'}\n",
        "        html = requests.get(url, headers=headers)\n",
        "        title = BeautifulSoup(html.text, 'html.parser')        \n",
        "        keywords = title.select('p.pdtName.tPad07')        \n",
        "        \n",
        "        \n",
        "        #6개는 행사 상품\n",
        "        for k in keywords[6:78]:\n",
        "            keyword = k.text\n",
        "            key_list.append(keyword)        \n",
        "        if i % 50 == 0:\n",
        "            print(i,'페이지 완료')\n",
        "    \n",
        "    # [] / () 지우기\n",
        "    key_list2 = []\n",
        "      \n",
        "    for key in key_list :\n",
        "        if '[' and '(' in key :\n",
        "            key = re.sub(r'\\[[^)]*\\]', '', key)\n",
        "            key_re = re.sub(r'\\([^)]*\\)', '', key)\n",
        "            key_list2.append(key_re)        \n",
        "        elif '[' in key :\n",
        "            key_re = re.sub(r'\\[[^)]*\\]', '', key)\n",
        "            key_list2.append(key_re)\n",
        "        elif '(' in key :\n",
        "            key_re = re.sub(r'\\([^)]*\\)', '', key)\n",
        "            key_list2.append(key_re)\n",
        "        elif '★' in key :\n",
        "            key_re = re.sub(r'\\★[^)]*\\★', '', key)\n",
        "            key_list2.append(key_re)\n",
        "        else :\n",
        "            key_list2.append(key)\n",
        "    print('(),[]삭제 완료')    \n",
        "    \n",
        "    #형태소 분류\n",
        "    titles =[]\n",
        "    for key in key_list2 :\n",
        "        titles.append(re.compile('[^가-힣]').sub(' ',key))\n",
        "    \n",
        "\n",
        "    df_section_title = pd.DataFrame(titles, columns=['title'])\n",
        "    df_section_title['category'] = category\n",
        "    df = pd.concat([df, df_title], axis = 0, ignore_index=True)\n",
        "    \n",
        "    print(f'{category} 추가')\n",
        "    print('-'*30)\n",
        "\n",
        "if 'Unnamed: 0' in df.columns :\n",
        "    df_section_title = df_section_title.drop(['Unnamed: 0'], axis=1)   \n",
        "    df_section_title = df_section_title.dropna(axis=0)\n",
        "    \n",
        "# ' ' 스페이스 공백 지우기 \n",
        "index_list = []\n",
        "for i in range(len(df)):\n",
        "    if df_section_title['title'][i].isspace() == True :\n",
        "        index_list.append(i)\n",
        "\n",
        "df_section_title = df_section_title.drop(index= index_list, axis = 0)\n",
        "    \n",
        "df_section_title.to_csv('project_4/test_data_ne.csv', encoding='utf-8-sig')    \n",
        "print('저장완료')\n"
      ],
      "execution_count": null,
      "outputs": [
        {
          "output_type": "stream",
          "text": [
            "Furniture  카테고리 크롤링 시작\n",
            "50 페이지 완료\n",
            "100 페이지 완료\n",
            "150 페이지 완료\n"
          ],
          "name": "stdout"
        },
        {
          "output_type": "error",
          "ename": "NameError",
          "evalue": "ignored",
          "traceback": [
            "\u001b[0;31m---------------------------------------------------------------------------\u001b[0m",
            "\u001b[0;31mNameError\u001b[0m                                 Traceback (most recent call last)",
            "\u001b[0;32m<ipython-input-2-70a57483ec00>\u001b[0m in \u001b[0;36m<module>\u001b[0;34m()\u001b[0m\n\u001b[1;32m     39\u001b[0m     \u001b[0;32mfor\u001b[0m \u001b[0mkey\u001b[0m \u001b[0;32min\u001b[0m \u001b[0mkey_list\u001b[0m \u001b[0;34m:\u001b[0m\u001b[0;34m\u001b[0m\u001b[0;34m\u001b[0m\u001b[0m\n\u001b[1;32m     40\u001b[0m         \u001b[0;32mif\u001b[0m \u001b[0;34m'['\u001b[0m \u001b[0;32mand\u001b[0m \u001b[0;34m'('\u001b[0m \u001b[0;32min\u001b[0m \u001b[0mkey\u001b[0m \u001b[0;34m:\u001b[0m\u001b[0;34m\u001b[0m\u001b[0;34m\u001b[0m\u001b[0m\n\u001b[0;32m---> 41\u001b[0;31m             \u001b[0mkey\u001b[0m \u001b[0;34m=\u001b[0m \u001b[0mre\u001b[0m\u001b[0;34m.\u001b[0m\u001b[0msub\u001b[0m\u001b[0;34m(\u001b[0m\u001b[0;34mr'\\[[^)]*\\]'\u001b[0m\u001b[0;34m,\u001b[0m \u001b[0;34m''\u001b[0m\u001b[0;34m,\u001b[0m \u001b[0mkey\u001b[0m\u001b[0;34m)\u001b[0m\u001b[0;34m\u001b[0m\u001b[0;34m\u001b[0m\u001b[0m\n\u001b[0m\u001b[1;32m     42\u001b[0m             \u001b[0mkey_re\u001b[0m \u001b[0;34m=\u001b[0m \u001b[0mre\u001b[0m\u001b[0;34m.\u001b[0m\u001b[0msub\u001b[0m\u001b[0;34m(\u001b[0m\u001b[0;34mr'\\([^)]*\\)'\u001b[0m\u001b[0;34m,\u001b[0m \u001b[0;34m''\u001b[0m\u001b[0;34m,\u001b[0m \u001b[0mkey\u001b[0m\u001b[0;34m)\u001b[0m\u001b[0;34m\u001b[0m\u001b[0;34m\u001b[0m\u001b[0m\n\u001b[1;32m     43\u001b[0m             \u001b[0mkey_list2\u001b[0m\u001b[0;34m.\u001b[0m\u001b[0mappend\u001b[0m\u001b[0;34m(\u001b[0m\u001b[0mkey_re\u001b[0m\u001b[0;34m)\u001b[0m\u001b[0;34m\u001b[0m\u001b[0;34m\u001b[0m\u001b[0m\n",
            "\u001b[0;31mNameError\u001b[0m: name 're' is not defined"
          ]
        }
      ]
    },
    {
      "cell_type": "code",
      "metadata": {
        "colab": {
          "base_uri": "https://localhost:8080/"
        },
        "id": "QQfS-a8JPrlv",
        "outputId": "07974cc9-428d-4d8c-a56e-4982f6965d61"
      },
      "source": [
        "# 카테고리 10개 돌 for문\n",
        "for j in range(10):\n",
        "    category = Category[j] # Category 리스트 i로 인덱싱\n",
        "    print(category) # category 찍기\n",
        "    category_num = Category_num[j] # 카테고리 번호는 j로 인덱싱해서 저장\n",
        "    key_list = [] # 빈 리스트 생성\n",
        "\n",
        "    for i in range(1, 151): # 150페이지까지 크롤링하는 for문\n",
        "        # 제목 추출 f-string으로 category_num과 i로 카테고리 및 페이지 넘기기\n",
        "        url = f'https://www.10x10.co.kr/shopping/category_main.asp?rect=&prvtxt=&rstxt=&extxt=&sflag=n&disp={category_num}&cpg={i}&chkr=False&chke=False&mkr=&sscp=Y&psz=40&srm=be&iccd=0&styleCd=&attribCd=&icoSize=S&arrCate=&deliType=&minPrc=&maxPrc=&lstDiv=list&ab='\n",
        "        headers = {'user-agent': 'Mozilla/5.0 (Windows NT 10.0; Win64; x64) AppleWebKit/537.36 (KHTML, like Gecko) Chrome/90.0.4430.85 Safari/537.36'}\n",
        "        html = requests.get(url, headers=headers)\n",
        "        title = BeautifulSoup(html.text, 'html.parser')\n",
        "        # keyword = soup_rank.select('div > div:nth-of-type(2) > div:nth-of-type(4) > div.ibox.float-e-margins > div ')\n",
        "        keywords = title.select('p.pdtName.tPad07')\n",
        "\n",
        "        # 제품명 크롤링 할 for문\n",
        "        for k in keywords[6:78]:# 앞에 6개는 행사제품이어서 제외\n",
        "            keyword = k.text # keyword는 k를 text화 후 저장\n",
        "            key_list.append(keyword)\n",
        "        if i % 50 == 0: # 50페이지마다 진행 상황 보기\n",
        "            print(i, '페이지 완료') \n",
        "        \n",
        "    # [] / () 지우기\n",
        "    key_list2 = [] # 빈 리스트 생성\n",
        "\n",
        "    for key in key_list:\n",
        "        if '[' and '(' in key:\n",
        "            key = re.sub(r'\\[[^)]*\\]', '', key) # 정규표현식 이용\n",
        "            key_re = re.sub(r'\\([^)]*\\)', '', key)\n",
        "            key_list2.append(key_re)\n",
        "        elif '[' in key:\n",
        "            key_re = re.sub(r'\\[[^)]*\\]', '', key)\n",
        "            key_list2.append(key_re)\n",
        "        elif '(' in key:\n",
        "            key_re = re.sub(r'\\([^)]*\\)', '', key)\n",
        "            key_list2.append(key_re)\n",
        "        else:\n",
        "            key_list2.append(key)\n",
        "\n",
        "    # print(key_list2)\n",
        "\n",
        "    print('(), [] 삭제 완료')\n",
        "    \n",
        "    df_section_title = pd.DataFrame(key_list2, columns=['title']) # 데이터 프레임화\n",
        "    df_section_title['category'] = category # 카테고리 컬럼 추가\n",
        "    df_section_title.to_csv(f'{category}.csv')\n",
        "\n",
        "    print(f'{category}.csv 저장완료')\n",
        "\n",
        "print('finish')\n"
      ],
      "execution_count": null,
      "outputs": [
        {
          "output_type": "stream",
          "text": [
            "Furniture\n",
            "50 페이지 완료\n",
            "100 페이지 완료\n",
            "150 페이지 완료\n",
            "(), [] 삭제 완료\n",
            "Furniture.csv 저장완료\n",
            "Life\n",
            "50 페이지 완료\n",
            "100 페이지 완료\n",
            "150 페이지 완료\n",
            "(), [] 삭제 완료\n",
            "Life.csv 저장완료\n",
            "Deco\n",
            "50 페이지 완료\n",
            "100 페이지 완료\n",
            "150 페이지 완료\n",
            "(), [] 삭제 완료\n",
            "Deco.csv 저장완료\n",
            "Kitchen\n",
            "50 페이지 완료\n",
            "100 페이지 완료\n",
            "150 페이지 완료\n",
            "(), [] 삭제 완료\n",
            "Kitchen.csv 저장완료\n",
            "Food\n",
            "50 페이지 완료\n",
            "100 페이지 완료\n",
            "150 페이지 완료\n",
            "(), [] 삭제 완료\n",
            "Food.csv 저장완료\n",
            "Baby,Kids\n",
            "50 페이지 완료\n",
            "100 페이지 완료\n",
            "150 페이지 완료\n",
            "(), [] 삭제 완료\n",
            "Baby,Kids.csv 저장완료\n",
            "FasihonClothing\n",
            "50 페이지 완료\n",
            "100 페이지 완료\n",
            "150 페이지 완료\n",
            "(), [] 삭제 완료\n",
            "FasihonClothing.csv 저장완료\n",
            "FasionGoods\n",
            "50 페이지 완료\n",
            "100 페이지 완료\n",
            "150 페이지 완료\n",
            "(), [] 삭제 완료\n",
            "FasionGoods.csv 저장완료\n",
            "Beauty\n",
            "50 페이지 완료\n",
            "100 페이지 완료\n",
            "150 페이지 완료\n",
            "(), [] 삭제 완료\n",
            "Beauty.csv 저장완료\n",
            "Jewelry\n",
            "50 페이지 완료\n",
            "100 페이지 완료\n",
            "150 페이지 완료\n",
            "(), [] 삭제 완료\n",
            "Jewelry.csv 저장완료\n",
            "finish\n"
          ],
          "name": "stdout"
        }
      ]
    }
  ]
}